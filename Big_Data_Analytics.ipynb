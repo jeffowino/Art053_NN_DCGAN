{
  "metadata": {
    "kernelspec": {
      "language": "python",
      "display_name": "Python 3",
      "name": "python3"
    },
    "language_info": {
      "pygments_lexer": "ipython3",
      "nbconvert_exporter": "python",
      "version": "3.6.4",
      "file_extension": ".py",
      "codemirror_mode": {
        "name": "ipython",
        "version": 3
      },
      "name": "python",
      "mimetype": "text/x-python"
    },
    "colab": {
      "provenance": [],
      "include_colab_link": true
    },
    "accelerator": "GPU",
    "gpuClass": "standard"
  },
  "nbformat_minor": 0,
  "nbformat": 4,
  "cells": [
    {
      "cell_type": "markdown",
      "metadata": {
        "id": "view-in-github",
        "colab_type": "text"
      },
      "source": [
        "<a href=\"https://colab.research.google.com/github/jeffowino/Art053_NN_DCGAN/blob/main/Big_Data_Analytics.ipynb\" target=\"_parent\"><img src=\"https://colab.research.google.com/assets/colab-badge.svg\" alt=\"Open In Colab\"/></a>"
      ]
    },
    {
      "cell_type": "code",
      "source": [
        "#install pyspark if not installed"
      ],
      "metadata": {
        "trusted": true,
        "id": "-qp_BDaN1Cy_"
      },
      "execution_count": 10,
      "outputs": []
    },
    {
      "cell_type": "code",
      "source": [
        "!pip install pyspark"
      ],
      "metadata": {
        "trusted": true,
        "colab": {
          "base_uri": "https://localhost:8080/"
        },
        "id": "Ztd3eniM1Czh",
        "outputId": "28e3997c-cbae-4323-db78-392374fefa02"
      },
      "execution_count": 11,
      "outputs": [
        {
          "output_type": "stream",
          "name": "stdout",
          "text": [
            "Looking in indexes: https://pypi.org/simple, https://us-python.pkg.dev/colab-wheels/public/simple/\n",
            "Requirement already satisfied: pyspark in /usr/local/lib/python3.10/dist-packages (3.4.0)\n",
            "Requirement already satisfied: py4j==0.10.9.7 in /usr/local/lib/python3.10/dist-packages (from pyspark) (0.10.9.7)\n"
          ]
        }
      ]
    },
    {
      "cell_type": "code",
      "source": [
        "#importing  some required libraries\n",
        "import pandas as pd\n",
        "import numpy as pd\n",
        "from pyspark import SparkContext, SparkConf\n",
        "from pyspark.sql import SparkSession, HiveContext\n"
      ],
      "metadata": {
        "trusted": true,
        "id": "kzAMAQuJ1Czk"
      },
      "execution_count": 12,
      "outputs": []
    },
    {
      "cell_type": "code",
      "source": [
        "#creating spark session\n",
        "sparkSession = (SparkSession\n",
        " .builder\n",
        " .appName('example-pyspark-read-and-write-from-hive')\n",
        " .enableHiveSupport()\n",
        " .getOrCreate())"
      ],
      "metadata": {
        "trusted": true,
        "id": "ftCNIGH91Czo"
      },
      "execution_count": 13,
      "outputs": []
    },
    {
      "cell_type": "code",
      "source": [
        "import urllib.request\n",
        "\n",
        "# Download the feature descriptions\n",
        "url_features = \"https://www.dropbox.com/s/c8qrzd99z5s9ub6/UNSW-NB15_features.csv?dl=1\"\n",
        "filename_features = \"UNSW-NB15_features.csv\"\n",
        "urllib.request.urlretrieve(url_features, filename_features)\n"
      ],
      "metadata": {
        "colab": {
          "base_uri": "https://localhost:8080/"
        },
        "id": "FzNj-AAp5BsA",
        "outputId": "b562a552-3a0f-4d48-e209-79c91b5e429d"
      },
      "execution_count": 14,
      "outputs": [
        {
          "output_type": "execute_result",
          "data": {
            "text/plain": [
              "('UNSW-NB15_features.csv', <http.client.HTTPMessage at 0x7fde331c1b70>)"
            ]
          },
          "metadata": {},
          "execution_count": 14
        }
      ]
    },
    {
      "cell_type": "code",
      "source": [
        "import urllib.request\n",
        "\n",
        "# Download the raw dataset without column headers\n",
        "url_dataset = \"https://www.dropbox.com/s/4xqg32ih9xoh5jq/UNSW-NB15.csv?dl=1\"\n",
        "filename_dataset = \"UNSW-NB15.csv\"\n",
        "urllib.request.urlretrieve(url_dataset, filename_dataset)\n"
      ],
      "metadata": {
        "colab": {
          "base_uri": "https://localhost:8080/"
        },
        "id": "zYVGDNBk5H4Q",
        "outputId": "f8f2f420-300b-4d55-ecd9-461a562b206f"
      },
      "execution_count": 15,
      "outputs": [
        {
          "output_type": "execute_result",
          "data": {
            "text/plain": [
              "('UNSW-NB15.csv', <http.client.HTTPMessage at 0x7fde331c09d0>)"
            ]
          },
          "metadata": {},
          "execution_count": 15
        }
      ]
    },
    {
      "cell_type": "code",
      "source": [
        "from pyspark.sql import SparkSession\n",
        "\n",
        "# Create a SparkSession\n",
        "spark = SparkSession.builder.appName(\"UNSW-NB15\").getOrCreate()\n",
        "\n",
        "# Load the feature descriptions into a PySpark DataFrame\n",
        "features = spark.read.csv(\"/content/UNSW-NB15_features.csv\", header=True, inferSchema=True)\n",
        "\n",
        "# Extract the column names from the feature descriptions\n",
        "column_names = [row['Name'] for row in features.select('Name').collect()]\n",
        "\n",
        "# Load the raw dataset without column headers into a PySpark DataFrame and add the column names\n",
        "fd = spark.read.csv(\"/content/UNSW-NB15.csv\", header=False, inferSchema=True) \\\n",
        "           .toDF(*column_names)\n",
        "\n"
      ],
      "metadata": {
        "id": "CNvyUgcG5Y_2"
      },
      "execution_count": 16,
      "outputs": []
    },
    {
      "cell_type": "code",
      "source": [
        "#So for further work on our project we will save pandas dataframe d1 into a .csv formatted dataframe combined.csv file\n",
        "#d1.to_csv('combined.csv')"
      ],
      "metadata": {
        "trusted": true,
        "id": "IlFa0bnz1Cz-"
      },
      "execution_count": 17,
      "outputs": []
    },
    {
      "cell_type": "code",
      "source": [
        "#Columns in fd dataframe\n",
        "fd.columns"
      ],
      "metadata": {
        "trusted": true,
        "colab": {
          "base_uri": "https://localhost:8080/"
        },
        "id": "dcVRx6AW1C0A",
        "outputId": "d7ba8293-b45e-4342-8164-736663482a3d"
      },
      "execution_count": 18,
      "outputs": [
        {
          "output_type": "execute_result",
          "data": {
            "text/plain": [
              "['srcip',\n",
              " 'sport',\n",
              " 'dstip',\n",
              " 'dsport',\n",
              " 'proto',\n",
              " 'state',\n",
              " 'dur',\n",
              " 'sbytes',\n",
              " 'dbytes',\n",
              " 'sttl',\n",
              " 'dttl',\n",
              " 'sloss',\n",
              " 'dloss',\n",
              " 'service',\n",
              " 'Sload',\n",
              " 'Dload',\n",
              " 'Spkts',\n",
              " 'Dpkts',\n",
              " 'swin',\n",
              " 'dwin',\n",
              " 'stcpb',\n",
              " 'dtcpb',\n",
              " 'smeansz',\n",
              " 'dmeansz',\n",
              " 'trans_depth',\n",
              " 'res_bdy_len',\n",
              " 'Sjit',\n",
              " 'Djit',\n",
              " 'Stime',\n",
              " 'Ltime',\n",
              " 'Sintpkt',\n",
              " 'Dintpkt',\n",
              " 'tcprtt',\n",
              " 'synack',\n",
              " 'ackdat',\n",
              " 'is_sm_ips_ports',\n",
              " 'ct_state_ttl',\n",
              " 'ct_flw_http_mthd',\n",
              " 'is_ftp_login',\n",
              " 'ct_ftp_cmd',\n",
              " 'ct_srv_src',\n",
              " 'ct_srv_dst',\n",
              " 'ct_dst_ltm',\n",
              " 'ct_src_ ltm',\n",
              " 'ct_src_dport_ltm',\n",
              " 'ct_dst_sport_ltm',\n",
              " 'ct_dst_src_ltm',\n",
              " 'attack_cat',\n",
              " 'Label']"
            ]
          },
          "metadata": {},
          "execution_count": 18
        }
      ]
    },
    {
      "cell_type": "code",
      "source": [
        "#changing column names of _c0 to id and ct_src_ ltm to ct_src_ltm\n",
        "fd = fd.withColumnRenamed(\"ct_src_ ltm\", \"ct_src_ltm\")\n",
        "dframe = fd.withColumnRenamed(\"_c0\", \"id\")"
      ],
      "metadata": {
        "trusted": true,
        "id": "Qt_3oM5s1C0B"
      },
      "execution_count": 19,
      "outputs": []
    },
    {
      "cell_type": "code",
      "source": [
        "#Write our dataframe into hive table\n",
        "\n",
        "dframe.write.saveAsTable('examples9')"
      ],
      "metadata": {
        "trusted": true,
        "id": "iPo5LAi-1C0C"
      },
      "execution_count": 20,
      "outputs": []
    },
    {
      "cell_type": "code",
      "source": [
        "# Read from Hive Table\n",
        "df_load = sparkSession.sql('SELECT * FROM examples9')\n",
        "df_load.show()"
      ],
      "metadata": {
        "trusted": true,
        "colab": {
          "base_uri": "https://localhost:8080/"
        },
        "id": "TGEttj-21C0D",
        "outputId": "ed51fc2c-729f-41a0-a217-15e6a14d1222"
      },
      "execution_count": 21,
      "outputs": [
        {
          "output_type": "stream",
          "name": "stdout",
          "text": [
            "+--------------+-----+--------------+------+-----+-----+------------+------+-------+----+----+-----+-----+-------+---------+---------+-----+-----+----+----+----------+----------+-------+-------+-----------+-----------+---------+----------+----------+----------+------------+------------+------------+------------+------------+---------------+------------+----------------+------------+----------+----------+----------+----------+----------+----------------+----------------+--------------+----------+-----+\n",
            "|         srcip|sport|         dstip|dsport|proto|state|         dur|sbytes| dbytes|sttl|dttl|sloss|dloss|service|    Sload|    Dload|Spkts|Dpkts|swin|dwin|     stcpb|     dtcpb|smeansz|dmeansz|trans_depth|res_bdy_len|     Sjit|      Djit|     Stime|     Ltime|     Sintpkt|     Dintpkt|      tcprtt|      synack|      ackdat|is_sm_ips_ports|ct_state_ttl|ct_flw_http_mthd|is_ftp_login|ct_ftp_cmd|ct_srv_src|ct_srv_dst|ct_dst_ltm|ct_src_ltm|ct_src_dport_ltm|ct_dst_sport_ltm|ct_dst_src_ltm|attack_cat|Label|\n",
            "+--------------+-----+--------------+------+-----+-----+------------+------+-------+----+----+-----+-----+-------+---------+---------+-----+-----+----+----+----------+----------+-------+-------+-----------+-----------+---------+----------+----------+----------+------------+------------+------------+------------+------------+---------------+------------+----------------+------------+----------+----------+----------+----------+----------+----------------+----------------+--------------+----------+-----+\n",
            "|    59.166.0.2| 3680| 149.171.126.2|  6881|  tcp|  FIN|    0.014243|  1540|   1644|  31|  29|    4|    4|      -|811065.06|872288.13|   16|   18| 255| 255|1162807465|1168861137|     96|     91|          0|          0|65.944405|  1.497043|1424254532|1424254532|  0.92793298|  0.81129402|     5.58E-4|4.4599999E-4|     1.12E-4|              0|           0|               0|           0|         0|         6|        13|         8|         8|               6|               1|             6|      null|    0|\n",
            "|    59.166.0.3|31946| 149.171.126.9|    53|  udp|  CON|    0.001022|   146|    178|  31|  29|    0|    0|    dns|571428.56|696673.19|    2|    2|   0|   0|         0|         0|     73|     89|          0|          0|      0.0|       0.0|1424254532|1424254532|0.0060000001|0.0060000001|         0.0|         0.0|         0.0|              0|           0|               0|           0|         0|         1|         1|         5|         2|               1|               1|             1|      null|    0|\n",
            "|    59.166.0.6|42410| 149.171.126.1|  6881|  tcp|  FIN| 0.056391999|  2856|  64718|  31|  29|    6|   26|      -| 395091.5|9042134.0|   40|   66| 255| 255|1222808654|1226920895|     71|    981|          0|          0| 79.68866| 55.734627|1424254532|1424254532|       1.438|    0.859815|6.2599999E-4|5.0099997E-4|1.2500001E-4|              0|           0|               0|           0|         0|        10|         7|         7|        10|               6|               1|             7|      null|    0|\n",
            "|    59.166.0.6| 4855| 149.171.126.9|    80|  tcp|  FIN|     0.00434|  1038|    820|  31|  29|    2|    2|   http|1675576.0|1360368.6|    8|   10| 255| 255|3368193256|1224247341|    130|     82|          1|         81|37.583836|0.81909198|1424254532|1424254532|  0.56999999|  0.42288899|6.5200002E-4|5.3299998E-4|     1.19E-4|              0|           0|               1|           0|         0|         3|         2|         5|        10|               1|               1|             2|      null|    0|\n",
            "|  175.45.176.3| 3033|149.171.126.19|    80|  tcp|  FIN|    1.152612|   832|   1228|  62| 252|    2|    2|   http|5198.6274|7676.4775|   10|   10| 255| 255|3291186925|2879479575|     83|    123|          1|        150|9479.1045| 183.25542|1424254531|1424254532|   128.06799|   114.38611|    0.124034| 0.065104999|    0.058929|              0|           1|               1|           0|         0|         2|         2|         1|         1|               1|               1|             2|      null|    0|\n",
            "|    59.166.0.1|24485| 149.171.126.0| 58549|  tcp|  FIN|    0.111069|  2766|  28404|  31|  29|    7|   16|      -|194761.81|2001422.5|   44|   46| 255| 255|3008190853|3181923110|     63|    617|          0|          0|228.92155| 229.90602|1424254532|1424254532|   2.5757909|   2.4568219|6.2300003E-4|5.0899998E-4|     1.14E-4|              0|           0|               0|           0|         0|         6|         5|         2|         6|               1|               1|             2|      null|    0|\n",
            "|    59.166.0.2|48627| 149.171.126.2|  6881|  tcp|  FIN| 0.053157002|  2856|  64718|  31|  29|    6|   26|      -|419135.75|9592415.0|   40|   66| 255| 255|3312389203|1166247795|     71|    981|          0|          0|77.022728| 53.508808|1424254532|1424254532|   1.3908679|  0.81036901|6.0299999E-4|4.7999999E-4|1.2300001E-4|              0|           0|               0|           0|         0|         6|        13|         8|         8|               6|               1|             6|      null|    0|\n",
            "|    59.166.0.2| 8297| 149.171.126.2|  6881|  tcp|  FIN|    0.019002|  1540|   1644|  31|  29|    4|    4|      -| 607936.0|653825.94|   16|   18| 255| 255|1162812169|3313745855|     96|     91|          0|          0|76.745293|    2.1064|1424254532|1424254532|    1.245667|    1.090294|5.7700003E-4|4.6400001E-4|     1.13E-4|              0|           0|               0|           0|         0|         6|        13|         8|         8|               6|               1|             6|      null|    0|\n",
            "|    59.166.0.6| 5773| 149.171.126.1|  6881|  tcp|  FIN|    0.013378|  1540|   1644|  31|  29|    4|    4|      -|863507.25|928688.88|   16|   18| 255| 255|3368194282|3379104906|     96|     91|          0|          0|60.425209|  1.390733|1424254532|1424254532|    0.870933|  0.76058799|5.6100002E-4|     4.43E-4|     1.18E-4|              0|           0|               0|           0|         0|        10|         7|         7|        10|               6|               1|             7|      null|    0|\n",
            "|    59.166.0.7|51787| 149.171.126.9|  5190|  tcp|  FIN|0.0055749998|  2062|   2424|  31|  29|    6|    7|      -|2836950.8|3344932.8|   24|   26| 255| 255|3188189594|3188470134|     86|     93|          0|          0|13.804102|       0.0|1424254532|1424254532|    0.226652|  0.19915999|7.2900002E-4|     5.88E-4|     1.41E-4|              0|           0|               0|           0|         0|         4|         4|         5|         1|               1|               1|             1|      null|    0|\n",
            "|    59.166.0.1|60485| 149.171.126.5| 58517|  tcp|  FIN|     0.05926|  2646|  25864|  31|  29|    7|   15|      -|348700.66|3412352.3|   42|   44| 255| 255| 802806223| 878694497|     63|    588|          0|          0|79.924324| 76.030975|1424254532|1424254532|    1.436244|    1.365535|6.8400003E-4|5.3899997E-4|     1.45E-4|              0|           0|               0|           0|         0|         6|         1|         1|         6|               1|               1|             1|      null|    0|\n",
            "|    59.166.0.2|42236| 149.171.126.2|  6881|  tcp|  FIN|    0.018972|  1540|   1644|  31|  29|    4|    4|      -|608897.31|654859.81|   16|   18| 255| 255|3312391059|3316866237|     96|     91|          0|          0|76.134598| 2.2550001|1424254532|1424254532|       1.244|    1.088412|     5.81E-4|     4.66E-4|     1.15E-4|              0|           0|               0|           0|         0|         6|        13|         8|         8|               6|               1|             6|      null|    0|\n",
            "|    59.166.0.6|49240| 149.171.126.7|    53|  udp|  CON|    0.001014|   132|    164|  31|  29|    0|    0|    dns|520710.03|646942.75|    2|    2|   0|   0|         0|         0|     66|     82|          0|          0|      0.0|       0.0|1424254532|1424254532|0.0089999996|0.0080000004|         0.0|         0.0|         0.0|              0|           0|               0|           0|         0|         4|         2|         2|        10|               1|               1|             1|      null|    0|\n",
            "|  175.45.176.0|11268|149.171.126.16|    80|  tcp|  FIN|  0.50577497|   838|   2006|  62| 252|    2|    2|   http|11942.069|27775.197|   10|    8| 255| 255|2233487486|3968392896|     84|    251|          1|        581|2882.7773| 78.194656|1424254531|1424254532|   56.197224|   57.370571|  0.13070799| 0.072242998|    0.058465|              0|           1|               1|           0|         0|         1|         1|         1|         1|               1|               1|             1|       DoS|    1|\n",
            "|    59.166.0.5|15701| 149.171.126.5|    53|  udp|  CON|0.0010770001|   130|    162|  31|  29|    0|    0|    dns|482822.63|601671.25|    2|    2|   0|   0|         0|         0|     65|     81|          0|          0|      0.0|       0.0|1424254533|1424254533|0.0080000004|0.0070000002|         0.0|         0.0|         0.0|              0|           0|               0|           0|         0|         2|         2|         1|         3|               1|               1|             1|      null|    0|\n",
            "|    59.166.0.5|17682| 149.171.126.8|   143|  tcp|  FIN| 0.031874001|  7822|  16492|  31|  29|   30|   32|      -|1947166.9|4106670.0|  122|  126| 255| 255|3788193399|3789235384|     64|    131|          0|          0|16.625374| 14.176489|1424254533|1424254533|  0.26951301|  0.25105599|6.1599998E-4|     4.89E-4|1.2700001E-4|              0|           0|               0|           0|         0|         3|         1|         1|         3|               1|               1|             1|      null|    0|\n",
            "|    59.166.0.6|48202| 149.171.126.6|    80|  tcp|  FIN|   2.3547051| 19410|1087890|  31|  29|    2|  370|   http|  65764.5|3691101.8|  364|  746| 255| 255|2292386291| 143803699|     53|   1458|          1|       3924|436.82596| 291.00656|1424254531|1424254533|   6.5038099|    3.159956|6.6000002E-4|     5.35E-4|1.2500001E-4|              0|           0|               4|           0|         0|         3|         4|         2|        10|               2|               2|             2|      null|    0|\n",
            "|149.171.126.14| 1043|  175.45.176.1|    53|  udp|  INT|      8.0E-6|   264|      0|  60|   0|    0|    0|    dns|   1.32E8|      0.0|    2|    0|   0|   0|         0|         0|    132|      0|          0|          0|      0.0|       0.0|1424254533|1424254533|0.0080000004|         0.0|         0.0|         0.0|         0.0|              0|           0|               0|           0|         0|        23|        23|        23|        23|              23|              23|            23|      null|    0|\n",
            "|149.171.126.14| 1043|  175.45.176.1|    53|  udp|  INT|      8.0E-6|   264|      0|  60|   0|    0|    0|    dns|   1.32E8|      0.0|    2|    0|   0|   0|         0|         0|    132|      0|          0|          0|      0.0|       0.0|1424254533|1424254533|0.0080000004|         0.0|         0.0|         0.0|         0.0|              0|           0|               0|           0|         0|        23|        23|        23|        23|              23|              23|            23|      null|    0|\n",
            "|149.171.126.14| 1043|  175.45.176.1|    53|  udp|  INT|      8.0E-6|   264|      0|  60|   0|    0|    0|    dns|   1.32E8|      0.0|    2|    0|   0|   0|         0|         0|    132|      0|          0|          0|      0.0|       0.0|1424254533|1424254533|0.0080000004|         0.0|         0.0|         0.0|         0.0|              0|           0|               0|           0|         0|        23|        23|        23|        23|              23|              23|            23|      null|    0|\n",
            "+--------------+-----+--------------+------+-----+-----+------------+------+-------+----+----+-----+-----+-------+---------+---------+-----+-----+----+----+----------+----------+-------+-------+-----------+-----------+---------+----------+----------+----------+------------+------------+------------+------------+------------+---------------+------------+----------------+------------+----------+----------+----------+----------+----------+----------------+----------------+--------------+----------+-----+\n",
            "only showing top 20 rows\n",
            "\n"
          ]
        }
      ]
    },
    {
      "cell_type": "code",
      "source": [
        "df_load.printSchema()"
      ],
      "metadata": {
        "trusted": true,
        "colab": {
          "base_uri": "https://localhost:8080/"
        },
        "id": "5WtZVrFw1C0F",
        "outputId": "53cdffbf-d200-44fd-9e7b-a0a82c3599c4"
      },
      "execution_count": 22,
      "outputs": [
        {
          "output_type": "stream",
          "name": "stdout",
          "text": [
            "root\n",
            " |-- srcip: string (nullable = true)\n",
            " |-- sport: integer (nullable = true)\n",
            " |-- dstip: string (nullable = true)\n",
            " |-- dsport: integer (nullable = true)\n",
            " |-- proto: string (nullable = true)\n",
            " |-- state: string (nullable = true)\n",
            " |-- dur: double (nullable = true)\n",
            " |-- sbytes: integer (nullable = true)\n",
            " |-- dbytes: integer (nullable = true)\n",
            " |-- sttl: integer (nullable = true)\n",
            " |-- dttl: integer (nullable = true)\n",
            " |-- sloss: integer (nullable = true)\n",
            " |-- dloss: integer (nullable = true)\n",
            " |-- service: string (nullable = true)\n",
            " |-- Sload: double (nullable = true)\n",
            " |-- Dload: double (nullable = true)\n",
            " |-- Spkts: integer (nullable = true)\n",
            " |-- Dpkts: integer (nullable = true)\n",
            " |-- swin: integer (nullable = true)\n",
            " |-- dwin: integer (nullable = true)\n",
            " |-- stcpb: long (nullable = true)\n",
            " |-- dtcpb: long (nullable = true)\n",
            " |-- smeansz: integer (nullable = true)\n",
            " |-- dmeansz: integer (nullable = true)\n",
            " |-- trans_depth: integer (nullable = true)\n",
            " |-- res_bdy_len: integer (nullable = true)\n",
            " |-- Sjit: double (nullable = true)\n",
            " |-- Djit: double (nullable = true)\n",
            " |-- Stime: integer (nullable = true)\n",
            " |-- Ltime: integer (nullable = true)\n",
            " |-- Sintpkt: double (nullable = true)\n",
            " |-- Dintpkt: double (nullable = true)\n",
            " |-- tcprtt: double (nullable = true)\n",
            " |-- synack: double (nullable = true)\n",
            " |-- ackdat: double (nullable = true)\n",
            " |-- is_sm_ips_ports: integer (nullable = true)\n",
            " |-- ct_state_ttl: integer (nullable = true)\n",
            " |-- ct_flw_http_mthd: integer (nullable = true)\n",
            " |-- is_ftp_login: integer (nullable = true)\n",
            " |-- ct_ftp_cmd: integer (nullable = true)\n",
            " |-- ct_srv_src: integer (nullable = true)\n",
            " |-- ct_srv_dst: integer (nullable = true)\n",
            " |-- ct_dst_ltm: integer (nullable = true)\n",
            " |-- ct_src_ltm: integer (nullable = true)\n",
            " |-- ct_src_dport_ltm: integer (nullable = true)\n",
            " |-- ct_dst_sport_ltm: integer (nullable = true)\n",
            " |-- ct_dst_src_ltm: integer (nullable = true)\n",
            " |-- attack_cat: string (nullable = true)\n",
            " |-- Label: integer (nullable = true)\n",
            "\n"
          ]
        }
      ]
    },
    {
      "cell_type": "code",
      "source": [
        "#Dropping unnecessary columns.. means they have no or negligible impact on results\n",
        "columns_to_drop = ['srcip', 'sport', 'dstip', 'dsport','stcpb','dtcpb','Ltime', 'Stime']\n",
        "df_load = df_load.drop(*columns_to_drop)"
      ],
      "metadata": {
        "trusted": true,
        "id": "j9-kG23d1C0G"
      },
      "execution_count": 23,
      "outputs": []
    },
    {
      "cell_type": "code",
      "source": [
        "#Showing columns of updated dataframe\n",
        "df_load.columns"
      ],
      "metadata": {
        "trusted": true,
        "colab": {
          "base_uri": "https://localhost:8080/"
        },
        "id": "ZP2bijv01C0H",
        "outputId": "4480aec2-8904-49df-c1ed-186c9237a8e8"
      },
      "execution_count": 24,
      "outputs": [
        {
          "output_type": "execute_result",
          "data": {
            "text/plain": [
              "['proto',\n",
              " 'state',\n",
              " 'dur',\n",
              " 'sbytes',\n",
              " 'dbytes',\n",
              " 'sttl',\n",
              " 'dttl',\n",
              " 'sloss',\n",
              " 'dloss',\n",
              " 'service',\n",
              " 'Sload',\n",
              " 'Dload',\n",
              " 'Spkts',\n",
              " 'Dpkts',\n",
              " 'swin',\n",
              " 'dwin',\n",
              " 'smeansz',\n",
              " 'dmeansz',\n",
              " 'trans_depth',\n",
              " 'res_bdy_len',\n",
              " 'Sjit',\n",
              " 'Djit',\n",
              " 'Sintpkt',\n",
              " 'Dintpkt',\n",
              " 'tcprtt',\n",
              " 'synack',\n",
              " 'ackdat',\n",
              " 'is_sm_ips_ports',\n",
              " 'ct_state_ttl',\n",
              " 'ct_flw_http_mthd',\n",
              " 'is_ftp_login',\n",
              " 'ct_ftp_cmd',\n",
              " 'ct_srv_src',\n",
              " 'ct_srv_dst',\n",
              " 'ct_dst_ltm',\n",
              " 'ct_src_ltm',\n",
              " 'ct_src_dport_ltm',\n",
              " 'ct_dst_sport_ltm',\n",
              " 'ct_dst_src_ltm',\n",
              " 'attack_cat',\n",
              " 'Label']"
            ]
          },
          "metadata": {},
          "execution_count": 24
        }
      ]
    },
    {
      "cell_type": "code",
      "source": [
        "#Checking null values of dataframe\n",
        "\n",
        "from pyspark.sql.functions import isnull, when, count, col\n",
        "\n",
        "df_load.select([count(when(isnull(c), c)).alias(c) for c in df_load.columns]).show()"
      ],
      "metadata": {
        "trusted": true,
        "colab": {
          "base_uri": "https://localhost:8080/"
        },
        "id": "19rJIEgI1C0I",
        "outputId": "ca0396d4-5262-44ba-ff79-0dfa9c587c63"
      },
      "execution_count": 25,
      "outputs": [
        {
          "output_type": "stream",
          "name": "stdout",
          "text": [
            "+-----+-----+---+------+------+----+----+-----+-----+-------+-----+-----+-----+-----+----+----+-------+-------+-----------+-----------+----+----+-------+-------+------+------+------+---------------+------------+----------------+------------+----------+----------+----------+----------+----------+----------------+----------------+--------------+----------+-----+\n",
            "|proto|state|dur|sbytes|dbytes|sttl|dttl|sloss|dloss|service|Sload|Dload|Spkts|Dpkts|swin|dwin|smeansz|dmeansz|trans_depth|res_bdy_len|Sjit|Djit|Sintpkt|Dintpkt|tcprtt|synack|ackdat|is_sm_ips_ports|ct_state_ttl|ct_flw_http_mthd|is_ftp_login|ct_ftp_cmd|ct_srv_src|ct_srv_dst|ct_dst_ltm|ct_src_ltm|ct_src_dport_ltm|ct_dst_sport_ltm|ct_dst_src_ltm|attack_cat|Label|\n",
            "+-----+-----+---+------+------+----+----+-----+-----+-------+-----+-----+-----+-----+----+----+-------+-------+-----------+-----------+----+----+-------+-------+------+------+------+---------------+------------+----------------+------------+----------+----------+----------+----------+----------+----------------+----------------+--------------+----------+-----+\n",
            "|    0|    0|  0|     0|     0|   0|   0|    0|    0|      0|    0|    0|    0|    0|   0|   0|      0|      0|          0|          0|   0|   0|      0|      0|     0|     0|     0|              0|           0|               0|           0|         0|         0|         0|         0|         0|               0|               0|             0|   2218456|    0|\n",
            "+-----+-----+---+------+------+----+----+-----+-----+-------+-----+-----+-----+-----+----+----+-------+-------+-----------+-----------+----+----+-------+-------+------+------+------+---------------+------------+----------------+------------+----------+----------+----------+----------+----------+----------------+----------------+--------------+----------+-----+\n",
            "\n"
          ]
        }
      ]
    },
    {
      "cell_type": "code",
      "source": [
        "#WE can see above that there is only one variable named attack_cat which have null values\n",
        "\n",
        "df_load.groupBy(\"attack_cat\").count().show()"
      ],
      "metadata": {
        "trusted": true,
        "colab": {
          "base_uri": "https://localhost:8080/"
        },
        "id": "N1-Ub4qD1C0J",
        "outputId": "70515583-dda9-4d66-f086-aacb2053a6fc"
      },
      "execution_count": 26,
      "outputs": [
        {
          "output_type": "stream",
          "name": "stdout",
          "text": [
            "+---------------+-------+\n",
            "|     attack_cat|  count|\n",
            "+---------------+-------+\n",
            "|          Worms|    174|\n",
            "|      Shellcode|    223|\n",
            "|           null|2218456|\n",
            "|      Backdoors|    534|\n",
            "|        Fuzzers|   5051|\n",
            "|       Analysis|   2677|\n",
            "|     Shellcode |   1288|\n",
            "|            DoS|  16353|\n",
            "|Reconnaissance |  12228|\n",
            "| Reconnaissance|   1759|\n",
            "|       Backdoor|   1795|\n",
            "|       Fuzzers |  19195|\n",
            "|       Exploits|  44525|\n",
            "|        Generic| 215481|\n",
            "+---------------+-------+\n",
            "\n"
          ]
        }
      ]
    },
    {
      "cell_type": "code",
      "source": [
        "# we are seeing Reconnaissance occuriing 2 time as one is named as Reconnaissance and another Reconnaissance + 1 space.. so we can merge them by renaming another as Reconnaissance\n",
        "# Fuzzers and shellcode also doing same \n",
        "#Update dataset\n",
        "from pyspark.sql import functions as F\n",
        "df_load = df_load.withColumn(\"attack_cat\", F.when(F.col(\"attack_cat\")=='Reconnaissance ', \"Reconnaissance\").otherwise(F.col(\"attack_cat\")))\n",
        "df_load = df_load.withColumn(\"attack_cat\", F.when(F.col(\"attack_cat\")=='Fuzzers ', \"Reconnaissance\").otherwise(F.col(\"attack_cat\")))\n",
        "df_load = df_load.withColumn(\"attack_cat\", F.when(F.col(\"attack_cat\")=='Shellcode ', \"Reconnaissance\").otherwise(F.col(\"attack_cat\")))"
      ],
      "metadata": {
        "trusted": true,
        "id": "3v1RVuao1C0K"
      },
      "execution_count": 27,
      "outputs": []
    },
    {
      "cell_type": "code",
      "source": [
        "df_load.groupBy(\"attack_cat\").count().show()"
      ],
      "metadata": {
        "trusted": true,
        "colab": {
          "base_uri": "https://localhost:8080/"
        },
        "id": "Kb4q763H1C0L",
        "outputId": "0daca099-522a-49a2-de00-5ae2be37be87"
      },
      "execution_count": 28,
      "outputs": [
        {
          "output_type": "stream",
          "name": "stdout",
          "text": [
            "+--------------+-------+\n",
            "|    attack_cat|  count|\n",
            "+--------------+-------+\n",
            "|         Worms|    174|\n",
            "|     Shellcode|    223|\n",
            "|          null|2218456|\n",
            "|     Backdoors|    534|\n",
            "|       Fuzzers|   5051|\n",
            "|      Analysis|   2677|\n",
            "|           DoS|  16353|\n",
            "|Reconnaissance|  34470|\n",
            "|      Backdoor|   1795|\n",
            "|      Exploits|  44525|\n",
            "|       Generic| 215481|\n",
            "+--------------+-------+\n",
            "\n"
          ]
        }
      ]
    },
    {
      "cell_type": "code",
      "source": [
        "# here null means  normal attacks, so replacing null values with  normal\n",
        "df_load = df_load.na.fill('normal')"
      ],
      "metadata": {
        "trusted": true,
        "id": "Hq3SUu441C0M"
      },
      "execution_count": 29,
      "outputs": []
    },
    {
      "cell_type": "code",
      "source": [
        "df_load.groupBy(\"attack_cat\").count().show()"
      ],
      "metadata": {
        "trusted": true,
        "colab": {
          "base_uri": "https://localhost:8080/"
        },
        "id": "bjySxrRC1C0N",
        "outputId": "39f45b2f-7c73-456a-a986-c47e5fe5f827"
      },
      "execution_count": 30,
      "outputs": [
        {
          "output_type": "stream",
          "name": "stdout",
          "text": [
            "+--------------+-------+\n",
            "|    attack_cat|  count|\n",
            "+--------------+-------+\n",
            "|         Worms|    174|\n",
            "|     Shellcode|    223|\n",
            "|     Backdoors|    534|\n",
            "|        normal|2218456|\n",
            "|       Fuzzers|   5051|\n",
            "|      Analysis|   2677|\n",
            "|           DoS|  16353|\n",
            "|Reconnaissance|  34470|\n",
            "|      Backdoor|   1795|\n",
            "|      Exploits|  44525|\n",
            "|       Generic| 215481|\n",
            "+--------------+-------+\n",
            "\n"
          ]
        }
      ]
    },
    {
      "cell_type": "code",
      "source": [
        "# As the dataset is very very large. So we are taking 1/10th of our original dataset for our further calculations\n",
        "\n",
        "import pandas as pd\n",
        "\n",
        "#columns = df_load.schema.fieldNames()\n",
        "#chunks = df_load.repartition(10).rdd.mapPartitions(lambda iterator: [pd.DataFrame(list(iterator), columns=columns)]).toLocalIterator()\n",
        "#for pdf in chunks:\n",
        "    # do work locally on chunk as pandas df\n",
        "df_x = fd"
      ],
      "metadata": {
        "trusted": true,
        "id": "tfCXGnJ81C0N"
      },
      "execution_count": 31,
      "outputs": []
    },
    {
      "cell_type": "code",
      "source": [
        "# So we have created a Pandas DataFrane and will convert it into spark dataframe"
      ],
      "metadata": {
        "trusted": true,
        "id": "y1Lywmqi1C0O"
      },
      "execution_count": 32,
      "outputs": []
    },
    {
      "cell_type": "code",
      "source": [
        "df_x.head()"
      ],
      "metadata": {
        "trusted": true,
        "colab": {
          "base_uri": "https://localhost:8080/"
        },
        "id": "CW_7LPcg1C0O",
        "outputId": "8a3f6c47-e4ae-438b-a6b2-c2ac5e07b775"
      },
      "execution_count": 33,
      "outputs": [
        {
          "output_type": "execute_result",
          "data": {
            "text/plain": [
              "Row(srcip='59.166.0.3', sport=56716, dstip='149.171.126.8', dsport=143, proto='tcp', state='FIN', dur=0.82546002, sbytes=7812, dbytes=16236, sttl=31, dttl=29, sloss=30, dloss=32, service='-', Sload=75090.25, Dload=156111.73, Spkts=122, Dpkts=126, swin=255, dwin=255, stcpb=2751097753, dtcpb=2748686736, smeansz=64, dmeansz=129, trans_depth=0, res_bdy_len=0, Sjit=445.25928, Djit=474.9451, Stime=1421970774, Ltime=1421970775, Sintpkt=6.8190908, Dintpkt=6.599896, tcprtt=0.00059700001, synack=0.00046899999, ackdat=0.000128, is_sm_ips_ports=0, ct_state_ttl=0, ct_flw_http_mthd=0, is_ftp_login=0, ct_ftp_cmd=0, ct_srv_src=2, ct_srv_dst=7, ct_dst_ltm=1, ct_src_ltm=4, ct_src_dport_ltm=1, ct_dst_sport_ltm=1, ct_dst_src_ltm=1, attack_cat=None, Label=0)"
            ]
          },
          "metadata": {},
          "execution_count": 33
        }
      ]
    },
    {
      "cell_type": "code",
      "source": [
        "# Creating Spark dataframe sdf from pandas dataframe df_x\n",
        "sdf = df_x"
      ],
      "metadata": {
        "trusted": true,
        "id": "z6BKDU601C0P"
      },
      "execution_count": 34,
      "outputs": []
    },
    {
      "cell_type": "code",
      "source": [
        "#Columns in our dataframe\n",
        "#sdf.columns"
      ],
      "metadata": {
        "trusted": true,
        "id": "RWXUaZp_1C0P"
      },
      "execution_count": 35,
      "outputs": []
    },
    {
      "cell_type": "code",
      "source": [
        "#sdf.columns"
      ],
      "metadata": {
        "id": "XgPBG02J8FeZ"
      },
      "execution_count": 36,
      "outputs": []
    },
    {
      "cell_type": "code",
      "source": [
        "sdf.printSchema()"
      ],
      "metadata": {
        "trusted": true,
        "colab": {
          "base_uri": "https://localhost:8080/"
        },
        "id": "Zlv029td1C0P",
        "outputId": "925d01a0-3667-48bc-cbb2-e1f143a8612e"
      },
      "execution_count": 37,
      "outputs": [
        {
          "output_type": "stream",
          "name": "stdout",
          "text": [
            "root\n",
            " |-- srcip: string (nullable = true)\n",
            " |-- sport: integer (nullable = true)\n",
            " |-- dstip: string (nullable = true)\n",
            " |-- dsport: integer (nullable = true)\n",
            " |-- proto: string (nullable = true)\n",
            " |-- state: string (nullable = true)\n",
            " |-- dur: double (nullable = true)\n",
            " |-- sbytes: integer (nullable = true)\n",
            " |-- dbytes: integer (nullable = true)\n",
            " |-- sttl: integer (nullable = true)\n",
            " |-- dttl: integer (nullable = true)\n",
            " |-- sloss: integer (nullable = true)\n",
            " |-- dloss: integer (nullable = true)\n",
            " |-- service: string (nullable = true)\n",
            " |-- Sload: double (nullable = true)\n",
            " |-- Dload: double (nullable = true)\n",
            " |-- Spkts: integer (nullable = true)\n",
            " |-- Dpkts: integer (nullable = true)\n",
            " |-- swin: integer (nullable = true)\n",
            " |-- dwin: integer (nullable = true)\n",
            " |-- stcpb: long (nullable = true)\n",
            " |-- dtcpb: long (nullable = true)\n",
            " |-- smeansz: integer (nullable = true)\n",
            " |-- dmeansz: integer (nullable = true)\n",
            " |-- trans_depth: integer (nullable = true)\n",
            " |-- res_bdy_len: integer (nullable = true)\n",
            " |-- Sjit: double (nullable = true)\n",
            " |-- Djit: double (nullable = true)\n",
            " |-- Stime: integer (nullable = true)\n",
            " |-- Ltime: integer (nullable = true)\n",
            " |-- Sintpkt: double (nullable = true)\n",
            " |-- Dintpkt: double (nullable = true)\n",
            " |-- tcprtt: double (nullable = true)\n",
            " |-- synack: double (nullable = true)\n",
            " |-- ackdat: double (nullable = true)\n",
            " |-- is_sm_ips_ports: integer (nullable = true)\n",
            " |-- ct_state_ttl: integer (nullable = true)\n",
            " |-- ct_flw_http_mthd: integer (nullable = true)\n",
            " |-- is_ftp_login: integer (nullable = true)\n",
            " |-- ct_ftp_cmd: integer (nullable = true)\n",
            " |-- ct_srv_src: integer (nullable = true)\n",
            " |-- ct_srv_dst: integer (nullable = true)\n",
            " |-- ct_dst_ltm: integer (nullable = true)\n",
            " |-- ct_src_ltm: integer (nullable = true)\n",
            " |-- ct_src_dport_ltm: integer (nullable = true)\n",
            " |-- ct_dst_sport_ltm: integer (nullable = true)\n",
            " |-- ct_dst_src_ltm: integer (nullable = true)\n",
            " |-- attack_cat: string (nullable = true)\n",
            " |-- Label: integer (nullable = true)\n",
            "\n"
          ]
        }
      ]
    },
    {
      "cell_type": "code",
      "source": [
        "# Checking count of protocols\n",
        "sdf.groupBy(\"proto\").count().show()"
      ],
      "metadata": {
        "trusted": true,
        "colab": {
          "base_uri": "https://localhost:8080/"
        },
        "id": "-otiWVd81C0Q",
        "outputId": "5ac9f841-0b1a-40b6-e28a-ec92f784007e"
      },
      "execution_count": 38,
      "outputs": [
        {
          "output_type": "stream",
          "name": "stdout",
          "text": [
            "+----------+-----+\n",
            "|     proto|count|\n",
            "+----------+-----+\n",
            "|      cphb|  137|\n",
            "|      larp|  137|\n",
            "|nsfnet-igp|  137|\n",
            "|       dgp|  137|\n",
            "|       tcf|  137|\n",
            "|     crudp|  137|\n",
            "|      vrrp|  137|\n",
            "|       igp|  137|\n",
            "|       nvp|  137|\n",
            "|   mfe-nsp|  137|\n",
            "|        il|  137|\n",
            "|       prm|  137|\n",
            "|      micp|  137|\n",
            "|  wb-expak|  137|\n",
            "|      ospf| 7798|\n",
            "|br-sat-mon|  137|\n",
            "|      idrp|  137|\n",
            "|        ib|  137|\n",
            "| kryptolan|  137|\n",
            "|sprite-rpc|  137|\n",
            "+----------+-----+\n",
            "only showing top 20 rows\n",
            "\n"
          ]
        }
      ]
    },
    {
      "cell_type": "code",
      "source": [
        "#Total no of rows\n",
        "sdf.count()"
      ],
      "metadata": {
        "trusted": true,
        "colab": {
          "base_uri": "https://localhost:8080/"
        },
        "id": "X2cRbrg21C0Q",
        "outputId": "8f4c70b7-6a49-4418-f659-77f1247b6307"
      },
      "execution_count": 39,
      "outputs": [
        {
          "output_type": "execute_result",
          "data": {
            "text/plain": [
              "2539739"
            ]
          },
          "metadata": {},
          "execution_count": 39
        }
      ]
    },
    {
      "cell_type": "code",
      "source": [
        "#We have read our dataset and found some columns on which we can apply Indexing\n",
        "\n",
        "# Indexing proto, state and service column's values  \n",
        "from pyspark.ml.feature import StringIndexer\n",
        "indexer = StringIndexer(inputCol=\"proto\", outputCol=\"xProto\")\n",
        "sdf = indexer.fit(sdf).transform(sdf) \n",
        "indexer = StringIndexer(inputCol=\"state\", outputCol=\"xState\")\n",
        "sdf = indexer.fit(sdf).transform(sdf) \n",
        "indexer = StringIndexer(inputCol=\"service\", outputCol=\"xSer\")\n",
        "sdf = indexer.fit(sdf).transform(sdf) \n",
        "sdf.show()"
      ],
      "metadata": {
        "trusted": true,
        "colab": {
          "base_uri": "https://localhost:8080/"
        },
        "id": "kt2LEm8J1C0Q",
        "outputId": "541f7927-a440-48a0-f517-482fc449ec74"
      },
      "execution_count": 40,
      "outputs": [
        {
          "output_type": "stream",
          "name": "stdout",
          "text": [
            "+----------+-----+-------------+------+-----+-----+------------+------+------+----+----+-----+-----+--------+---------+---------+-----+-----+----+----+----------+----------+-------+-------+-----------+-----------+----------+---------+----------+----------+------------+------------+------------+------------+------------+---------------+------------+----------------+------------+----------+----------+----------+----------+----------+----------------+----------------+--------------+----------+-----+------+------+----+\n",
            "|     srcip|sport|        dstip|dsport|proto|state|         dur|sbytes|dbytes|sttl|dttl|sloss|dloss| service|    Sload|    Dload|Spkts|Dpkts|swin|dwin|     stcpb|     dtcpb|smeansz|dmeansz|trans_depth|res_bdy_len|      Sjit|     Djit|     Stime|     Ltime|     Sintpkt|     Dintpkt|      tcprtt|      synack|      ackdat|is_sm_ips_ports|ct_state_ttl|ct_flw_http_mthd|is_ftp_login|ct_ftp_cmd|ct_srv_src|ct_srv_dst|ct_dst_ltm|ct_src_ltm|ct_src_dport_ltm|ct_dst_sport_ltm|ct_dst_src_ltm|attack_cat|Label|xProto|xState|xSer|\n",
            "+----------+-----+-------------+------+-----+-----+------------+------+------+----+----+-----+-----+--------+---------+---------+-----+-----+----+----+----------+----------+-------+-------+-----------+-----------+----------+---------+----------+----------+------------+------------+------------+------------+------------+---------------+------------+----------------+------------+----------+----------+----------+----------+----------+----------------+----------------+--------------+----------+-----+------+------+----+\n",
            "|59.166.0.3|56716|149.171.126.8|   143|  tcp|  FIN|  0.82546002|  7812| 16236|  31|  29|   30|   32|       -| 75090.25|156111.73|  122|  126| 255| 255|2751097753|2748686736|     64|    129|          0|          0| 445.25928| 474.9451|1421970774|1421970775|   6.8190908|    6.599896|5.9700001E-4|4.6899999E-4|     1.28E-4|              0|           0|               0|           0|         0|         2|         7|         1|         4|               1|               1|             1|      null|    0|   0.0|   0.0| 0.0|\n",
            "|59.166.0.0|43467|149.171.126.6| 49729|  tcp|  FIN|    0.101815|  4238| 65628|  31|  29|    7|   30|       -|328438.84|5087030.5|   72|   74| 255| 255| 961515433|3225510659|     59|    887|          0|          0|       0.0|91.579567|1421970775|1421970775|    1.429493|    1.387192|      6.8E-4|5.4600002E-4|     1.34E-4|              0|           0|               0|           0|         0|         7|         4|         1|         6|               1|               1|             1|      null|    0|   0.0|   0.0| 0.0|\n",
            "|59.166.0.5|41289|149.171.126.2|  9574|  tcp|  FIN| 0.044002999|  2750| 29104|  31|  29|    7|   17|       -|488693.97|5181101.5|   44|   48| 255| 255|3291096757|1191410228|     63|    606|          0|          0| 78.126968|62.206562|1421970775|1421970775|    1.014977|  0.92583001|     0.00125|     4.85E-4|     7.65E-4|              0|           0|               0|           0|         0|         3|         5|         3|         3|               1|               1|             1|      null|    0|   0.0|   0.0| 0.0|\n",
            "|59.166.0.9|43785|149.171.126.0|  6881|  tcp|  FIN|   2.7908299| 10476|395734|  31|  29|   16|  143|       -|29863.518|1130840.8|  180|  320| 255| 255|3934392726|3961690324|     58|   1237|          0|          0| 2707.4927| 2018.976|1421970772|1421970775|   15.589459|   8.7470121|6.8400003E-4|5.3199998E-4|1.5199999E-4|              0|           0|               0|           0|         0|        11|         4|         3|         2|               1|               1|             1|      null|    0|   0.0|   0.0| 0.0|\n",
            "|59.166.0.8|40691|149.171.126.9|  6881|  tcp|  FIN|   2.6335001| 13350|548216|  31|  29|   21|  197|       -|40381.238|1661560.6|  232|  438| 255| 255|   1518931|  18267719|     58|   1252|          0|          0| 718.33679|500.57288|1421970773|1421970775|   11.399026|   6.0251832|     6.19E-4|     4.89E-4|      1.3E-4|              0|           0|               0|           0|         0|        16|         7|         7|         1|               1|               1|             1|      null|    0|   0.0|   0.0| 0.0|\n",
            "|59.166.0.3|20393|149.171.126.3|  5190|  tcp|  FIN|    0.115048|  1958|  2308|  31|  29|    6|    6|       -|129963.15|153814.06|   22|   24| 255| 255|3646899201|3651364285|     89|     96|          0|          0| 435.26627|417.08563|1421970775|1421970775|    5.460381|    4.976913|7.0999999E-4|     5.73E-4|     1.37E-4|              0|           0|               0|           0|         0|         2|         6|         1|         4|               1|               1|             1|      null|    0|   0.0|   0.0| 0.0|\n",
            "|59.166.0.7|19792|149.171.126.0|    53|  udp|  CON|    0.003362|   146|   178|  31|  29|    0|    0|     dns|173706.13| 211778.7|    2|    2|   0|   0|         0|         0|     73|     89|          0|          0|       0.0|      0.0|1421970775|1421970775|       0.011|0.0060000001|         0.0|         0.0|         0.0|              0|           0|               0|           0|         0|         3|         2|         3|         3|               3|               1|             1|      null|    0|   1.0|   1.0| 1.0|\n",
            "|59.166.0.3|14382|149.171.126.9|  3354|  tcp|  FIN|  0.45305201|   424|  8824|  31|  29|    1|    4|ftp-data| 6551.124| 142835.7|    8|   12| 255| 255|2206905053|3307670308|     53|    735|          0|          0| 3906.7949|3074.6694|1421970775|1421970775|   64.671288|   41.134998|      6.8E-4|5.5900001E-4|     1.21E-4|              0|           0|               0|           0|         0|         4|         6|         7|         4|               1|               1|             2|      null|    0|   0.0|   0.0| 3.0|\n",
            "|59.166.0.9|37074|149.171.126.2|    53|  udp|  CON|    0.001088|   146|   178|  31|  29|    0|    0|     dns|536764.69|654411.75|    2|    2|   0|   0|         0|         0|     73|     89|          0|          0|       0.0|      0.0|1421970775|1421970775|       0.001|0.0089999996|         0.0|         0.0|         0.0|              0|           0|               0|           0|         0|         2|         5|         3|         2|               1|               1|             1|      null|    0|   1.0|   1.0| 1.0|\n",
            "|59.166.0.7|12569|149.171.126.5|    53|  udp|  CON|9.6899999E-4|   146|   178|  31|  29|    0|    0|     dns|602683.19|734778.13|    2|    2|   0|   0|         0|         0|     73|     89|          0|          0|       0.0|      0.0|1421970775|1421970775|0.0099999998|       0.003|         0.0|         0.0|         0.0|              0|           0|               0|           0|         0|         3|         1|         2|         3|               3|               1|             1|      null|    0|   1.0|   1.0| 1.0|\n",
            "|59.166.0.1|12792|149.171.126.7|    53|  udp|  CON|0.0010629999|   146|   178|  31|  29|    0|    0|     dns|549388.56| 669802.5|    2|    2|   0|   0|         0|         0|     73|     89|          0|          0|       0.0|      0.0|1421970780|1421970780|0.0020000001|       0.003|         0.0|         0.0|         0.0|              0|           0|               0|           0|         0|         5|         3|         2|         4|               3|               1|             1|      null|    0|   1.0|   1.0| 1.0|\n",
            "|59.166.0.0|63414|149.171.126.9| 10330|  tcp|  FIN|  0.26501101|  8928|   320|  31|  29|    4|    1|ftp-data|250283.94|8060.0425|   14|    6| 255| 255|2386904726|3699988372|    638|     53|          0|          0| 1725.2916|71.464249|1421970775|1421970776|   20.385462|   52.644802|7.7500002E-4|6.3299999E-4|     1.42E-4|              0|           0|               0|           0|         0|         3|         6|         6|         5|               1|               1|             2|      null|    0|   0.0|   0.0| 3.0|\n",
            "|59.166.0.1|33555|149.171.126.3|  6881|  tcp|  FIN|  0.51712799|  1540|  1644|  31|  29|    4|    4|       -|22338.764|  24025.0|   16|   18| 255| 255|1741520309|3943579644|     96|     91|          0|          0| 2036.1301| 51.91766|1421970776|1421970776|   34.433331|   30.388353|6.5399997E-4|5.2200002E-4|     1.32E-4|              0|           0|               0|           0|         0|         4|         6|         5|         7|               4|               1|             4|      null|    0|   0.0|   0.0| 0.0|\n",
            "|59.166.0.8|10867|149.171.126.8|   111|  udp|  CON|0.0053389999|   568|   312|  31|  29|    0|    0|       -|638321.81|350627.47|    4|    4|   0|   0|         0|         0|    142|     78|          0|          0| 1.7430201| 1.757632|1421970776|1421970776|        1.24|    1.252333|         0.0|         0.0|         0.0|              0|           0|               0|           0|         0|        16|         7|         5|         5|               1|               1|             4|      null|    0|   1.0|   1.0| 0.0|\n",
            "|59.166.0.8|12411|149.171.126.8|  1715|  udp|  CON|    0.001739|   512|   304|  31|  29|    0|    0|       -|1766532.5|1048878.6|    4|    4|   0|   0|         0|         0|    128|     76|          0|          0|0.63026798| 0.318434|1421970776|1421970776|  0.44966701|    0.227667|         0.0|         0.0|         0.0|              0|           0|               0|           0|         0|        16|         7|         5|         5|               1|               1|             4|      null|    0|   1.0|   1.0| 0.0|\n",
            "|59.166.0.8|46725|149.171.126.2|    53|  udp|  CON|    0.001018|   146|   178|  31|  29|    0|    0|     dns|573673.88|699410.63|    2|    2|   0|   0|         0|         0|     73|     89|          0|          0|       0.0|      0.0|1421970776|1421970776|       0.011|       0.011|         0.0|         0.0|         0.0|              0|           0|               0|           0|         0|         2|         5|         3|         5|               1|               1|             1|      null|    0|   1.0|   1.0| 1.0|\n",
            "|59.166.0.1|51562|149.171.126.4|    53|  udp|  CON|    0.001044|   146|   178|  31|  29|    0|    0|     dns|559386.94|681992.31|    2|    2|   0|   0|         0|         0|     73|     89|          0|          0|       0.0|      0.0|1421970776|1421970776|       0.011|       0.003|         0.0|         0.0|         0.0|              0|           0|               0|           0|         0|         2|         3|         5|         7|               2|               1|             3|      null|    0|   1.0|   1.0| 1.0|\n",
            "|59.166.0.3|48838|149.171.126.2|    53|  udp|  CON|9.8699995E-4|   146|   178|  31|  29|    0|    0|     dns| 591692.0|721377.94|    2|    2|   0|   0|         0|         0|     73|     89|          0|          0|       0.0|      0.0|1421970776|1421970776|0.0080000004|       0.003|         0.0|         0.0|         0.0|              0|           0|               0|           0|         0|         2|         5|         3|         3|               1|               1|             1|      null|    0|   1.0|   1.0| 1.0|\n",
            "|59.166.0.0|16907|149.171.126.9|    21|  tcp|  FIN|   2.2547121|  2934|  3740|  31|  29|   11|   15|     ftp|10211.503|13025.166|   52|   54| 255| 255| 241515551|2584135680|     56|     69|          0|          0| 3141.3708| 99.93412|1421970773|1421970776|   44.203648|   42.531734|6.6100003E-4|5.2499998E-4|     1.36E-4|              0|           0|               0|           0|         0|         1|         3|         6|         5|               1|               1|             2|      null|    0|   0.0|   0.0| 5.0|\n",
            "|59.166.0.0| 1915|149.171.126.4| 32945|  tcp|  FIN| 0.051220998|  2854| 29104|  31|  29|    7|   17|       -|436071.16|4450987.0|   46|   48| 255| 255|1921515932|1974066994|     62|    606|          0|          0| 78.226654|76.387978|1421970776|1421970776|   1.1294219|   1.0781699|      8.1E-4|     5.43E-4|     2.67E-4|              0|           0|               0|           0|         0|         7|         2|         5|         5|               1|               1|             2|      null|    0|   0.0|   0.0| 0.0|\n",
            "+----------+-----+-------------+------+-----+-----+------------+------+------+----+----+-----+-----+--------+---------+---------+-----+-----+----+----+----------+----------+-------+-------+-----------+-----------+----------+---------+----------+----------+------------+------------+------------+------------+------------+---------------+------------+----------------+------------+----------+----------+----------+----------+----------+----------------+----------------+--------------+----------+-----+------+------+----+\n",
            "only showing top 20 rows\n",
            "\n"
          ]
        }
      ]
    },
    {
      "cell_type": "code",
      "source": [
        "#Dropping the columns which have indexed and some other columns as they also  have no or negligible impact on our results \n",
        "columns_to_drop = ['srcip','sport','dstip','Stime','Ltime','proto','state']\n",
        "sdf = sdf.drop(*columns_to_drop)"
      ],
      "metadata": {
        "trusted": true,
        "id": "rSIvDrbN1C0R"
      },
      "execution_count": 41,
      "outputs": []
    },
    {
      "cell_type": "code",
      "source": [
        "sdf.columns"
      ],
      "metadata": {
        "trusted": true,
        "colab": {
          "base_uri": "https://localhost:8080/"
        },
        "id": "wQX2f8QS1C0S",
        "outputId": "35b67aee-c515-417c-8d2b-ad68f753d7d9"
      },
      "execution_count": 42,
      "outputs": [
        {
          "output_type": "execute_result",
          "data": {
            "text/plain": [
              "['dsport',\n",
              " 'dur',\n",
              " 'sbytes',\n",
              " 'dbytes',\n",
              " 'sttl',\n",
              " 'dttl',\n",
              " 'sloss',\n",
              " 'dloss',\n",
              " 'service',\n",
              " 'Sload',\n",
              " 'Dload',\n",
              " 'Spkts',\n",
              " 'Dpkts',\n",
              " 'swin',\n",
              " 'dwin',\n",
              " 'stcpb',\n",
              " 'dtcpb',\n",
              " 'smeansz',\n",
              " 'dmeansz',\n",
              " 'trans_depth',\n",
              " 'res_bdy_len',\n",
              " 'Sjit',\n",
              " 'Djit',\n",
              " 'Sintpkt',\n",
              " 'Dintpkt',\n",
              " 'tcprtt',\n",
              " 'synack',\n",
              " 'ackdat',\n",
              " 'is_sm_ips_ports',\n",
              " 'ct_state_ttl',\n",
              " 'ct_flw_http_mthd',\n",
              " 'is_ftp_login',\n",
              " 'ct_ftp_cmd',\n",
              " 'ct_srv_src',\n",
              " 'ct_srv_dst',\n",
              " 'ct_dst_ltm',\n",
              " 'ct_src_ltm',\n",
              " 'ct_src_dport_ltm',\n",
              " 'ct_dst_sport_ltm',\n",
              " 'ct_dst_src_ltm',\n",
              " 'attack_cat',\n",
              " 'Label',\n",
              " 'xProto',\n",
              " 'xState',\n",
              " 'xSer']"
            ]
          },
          "metadata": {},
          "execution_count": 42
        }
      ]
    },
    {
      "cell_type": "code",
      "source": [
        "#Checking number of distinct values in each columns\n",
        "\n",
        "#from pyspark.sql.functions import col, countDistinct\n",
        "\n",
        "#for column_name in sdf.columns:\n",
        "    #count_distinct=sdf.agg(countDistinct(col(column_name).alias(\"distinct_counts\"))).head()[0]\n",
        "    #print('The number of distinct values of '+column_name+ ' is ' +str(count_distinct))"
      ],
      "metadata": {
        "trusted": true,
        "colab": {
          "base_uri": "https://localhost:8080/"
        },
        "id": "9TyGx8Fx1C0T",
        "outputId": "f03e57ad-2a13-4a10-e6ec-349ddf06b74c"
      },
      "execution_count": 43,
      "outputs": [
        {
          "output_type": "stream",
          "name": "stdout",
          "text": [
            "The number of distinct values of dsport is 64626\n",
            "The number of distinct values of dur is 587302\n",
            "The number of distinct values of sbytes is 14154\n",
            "The number of distinct values of dbytes is 19166\n",
            "The number of distinct values of sttl is 13\n",
            "The number of distinct values of dttl is 11\n",
            "The number of distinct values of sloss is 544\n",
            "The number of distinct values of dloss is 707\n",
            "The number of distinct values of service is 13\n",
            "The number of distinct values of Sload is 1100051\n",
            "The number of distinct values of Dload is 1173697\n",
            "The number of distinct values of Spkts is 933\n",
            "The number of distinct values of Dpkts is 1255\n",
            "The number of distinct values of swin is 36\n",
            "The number of distinct values of dwin is 32\n",
            "The number of distinct values of stcpb is 1429571\n",
            "The number of distinct values of dtcpb is 1429031\n",
            "The number of distinct values of smeansz is 1415\n",
            "The number of distinct values of dmeansz is 1417\n",
            "The number of distinct values of trans_depth is 14\n",
            "The number of distinct values of res_bdy_len is 2907\n",
            "The number of distinct values of Sjit is 1312613\n",
            "The number of distinct values of Djit is 1360921\n",
            "The number of distinct values of Sintpkt is 956886\n",
            "The number of distinct values of Dintpkt is 945266\n",
            "The number of distinct values of tcprtt is 76931\n",
            "The number of distinct values of synack is 66997\n",
            "The number of distinct values of ackdat is 60844\n",
            "The number of distinct values of is_sm_ips_ports is 2\n",
            "The number of distinct values of ct_state_ttl is 7\n",
            "The number of distinct values of ct_flw_http_mthd is 16\n",
            "The number of distinct values of is_ftp_login is 4\n",
            "The number of distinct values of ct_ftp_cmd is 8\n",
            "The number of distinct values of ct_srv_src is 65\n",
            "The number of distinct values of ct_srv_dst is 66\n",
            "The number of distinct values of ct_dst_ltm is 62\n",
            "The number of distinct values of ct_src_ltm is 62\n",
            "The number of distinct values of ct_src_dport_ltm is 62\n",
            "The number of distinct values of ct_dst_sport_ltm is 55\n",
            "The number of distinct values of ct_dst_src_ltm is 65\n",
            "The number of distinct values of attack_cat is 13\n",
            "The number of distinct values of Label is 2\n",
            "The number of distinct values of xProto is 134\n",
            "The number of distinct values of xState is 16\n",
            "The number of distinct values of xSer is 13\n"
          ]
        }
      ]
    },
    {
      "cell_type": "code",
      "source": [
        "#Checking time taken to perform some queries given below"
      ],
      "metadata": {
        "trusted": true,
        "id": "wyp3nfpO1C0U"
      },
      "execution_count": 44,
      "outputs": []
    },
    {
      "cell_type": "code",
      "source": [
        "from time import time\n",
        "\n",
        "t0 = time()\n",
        "sdf.select(\"xProto\", \"Djit\", \"dbytes\").groupBy(\"xProto\").count().show()\n",
        "tt = time() - t0\n",
        "\n",
        "print(\"Query performed in {} seconds\".format(round(tt,3)))"
      ],
      "metadata": {
        "trusted": true,
        "colab": {
          "base_uri": "https://localhost:8080/"
        },
        "id": "CAXrNi4a1C0W",
        "outputId": "37f52be8-a531-4e66-c164-2821462e8662"
      },
      "execution_count": 45,
      "outputs": [
        {
          "output_type": "stream",
          "name": "stdout",
          "text": [
            "+------+-------+\n",
            "|xProto|  count|\n",
            "+------+-------+\n",
            "|   8.0|    274|\n",
            "|  67.0|    137|\n",
            "|  70.0|    137|\n",
            "|   0.0|1495074|\n",
            "|  69.0|    137|\n",
            "|   7.0|    324|\n",
            "| 112.0|    137|\n",
            "| 124.0|    137|\n",
            "| 128.0|    137|\n",
            "| 108.0|    137|\n",
            "| 133.0|      7|\n",
            "|  88.0|    137|\n",
            "|  49.0|    137|\n",
            "| 101.0|    137|\n",
            "| 116.0|    137|\n",
            "|  98.0|    137|\n",
            "| 107.0|    137|\n",
            "|  29.0|    137|\n",
            "|  75.0|    137|\n",
            "|  64.0|    137|\n",
            "+------+-------+\n",
            "only showing top 20 rows\n",
            "\n",
            "Query performed in 8.063 seconds\n"
          ]
        }
      ]
    },
    {
      "cell_type": "code",
      "source": [
        "t0 = time()\n",
        "sdf.select(\"xProto\", \"Djit\", \"dbytes\").filter(sdf.Djit<1000).filter(sdf.dbytes > 1000).groupBy(\"xProto\").count().show()\n",
        "tt = time() - t0\n",
        "\n",
        "print(\"Query performed in {} seconds\".format(round(tt,3)))"
      ],
      "metadata": {
        "trusted": true,
        "colab": {
          "base_uri": "https://localhost:8080/"
        },
        "id": "aApzGOO51C0X",
        "outputId": "cb51b721-f57d-4c21-9a7b-7e4d911596ab"
      },
      "execution_count": 46,
      "outputs": [
        {
          "output_type": "stream",
          "name": "stdout",
          "text": [
            "+------+-------+\n",
            "|xProto|  count|\n",
            "+------+-------+\n",
            "|   0.0|1097818|\n",
            "|   1.0|    184|\n",
            "|  15.0|     15|\n",
            "|   5.0|    163|\n",
            "|   3.0|      4|\n",
            "+------+-------+\n",
            "\n",
            "Query performed in 13.335 seconds\n"
          ]
        }
      ]
    },
    {
      "cell_type": "code",
      "source": [
        "t0 = time()\n",
        "sdf.select(\"Label\").groupBy(\"Label\").count().show()\n",
        "tt = time() - t0\n",
        "\n",
        "print(\"Query performed in {} seconds\".format(round(tt,3)))"
      ],
      "metadata": {
        "trusted": true,
        "colab": {
          "base_uri": "https://localhost:8080/"
        },
        "id": "TH41PlRA1C0X",
        "outputId": "40e3684e-aace-4ba8-cef3-bc85ac2de572"
      },
      "execution_count": 47,
      "outputs": [
        {
          "output_type": "stream",
          "name": "stdout",
          "text": [
            "+-----+-------+\n",
            "|Label|  count|\n",
            "+-----+-------+\n",
            "|    1| 321283|\n",
            "|    0|2218456|\n",
            "+-----+-------+\n",
            "\n",
            "Query performed in 8.565 seconds\n"
          ]
        }
      ]
    },
    {
      "cell_type": "code",
      "source": [
        "t0 = time()\n",
        "sdf.select(\"attack_cat\").groupBy(\"attack_cat\").count().show()\n",
        "tt = time() - t0\n",
        "\n",
        "print(\"Query performed in {} seconds\".format(round(tt,3)))"
      ],
      "metadata": {
        "trusted": true,
        "colab": {
          "base_uri": "https://localhost:8080/"
        },
        "id": "wmIVXbsA1C0Y",
        "outputId": "ba481b5c-2395-4100-f133-e72bd5f5a8f6"
      },
      "execution_count": 48,
      "outputs": [
        {
          "output_type": "stream",
          "name": "stdout",
          "text": [
            "+---------------+-------+\n",
            "|     attack_cat|  count|\n",
            "+---------------+-------+\n",
            "|          Worms|    174|\n",
            "|           null|2218456|\n",
            "|       Analysis|   2677|\n",
            "|     Shellcode |   1288|\n",
            "|            DoS|  16353|\n",
            "|Reconnaissance |  12228|\n",
            "|       Backdoor|   1795|\n",
            "|       Fuzzers |  19195|\n",
            "|       Exploits|  44525|\n",
            "|        Generic| 215481|\n",
            "|      Shellcode|    223|\n",
            "|      Backdoors|    534|\n",
            "|        Fuzzers|   5051|\n",
            "| Reconnaissance|   1759|\n",
            "+---------------+-------+\n",
            "\n",
            "Query performed in 5.631 seconds\n"
          ]
        }
      ]
    },
    {
      "cell_type": "code",
      "source": [
        "#Trying some operations on some columns of our dataset (Not necessary for our calculations..) "
      ],
      "metadata": {
        "trusted": true,
        "id": "MYc4kFtv1C0Y"
      },
      "execution_count": 49,
      "outputs": []
    },
    {
      "cell_type": "code",
      "source": [
        "# Import Necessary data types\n",
        "from pyspark.sql.functions import udf,split\n",
        "from pyspark.sql.types import StructType, StructField, IntegerType, StringType, ArrayType\n",
        "\n",
        "# Create a function for all the data manipulations\n",
        "def new_cols(sbytes,dbytes):\n",
        " if sbytes<4400: sb_Category='Small'\n",
        " elif sbytes<8000: sb_Category='Medium'\n",
        " else: sb_Category='Large'\n",
        " if dbytes<1000: db_Category='Low'\n",
        " elif dbytes<4000: db_Category='Mid'\n",
        " else: db_Category='High'\n",
        " return sb_Category,db_Category\n",
        "\n",
        "# Apply the user defined function on the dataframe\n",
        "udfB=udf(new_cols,StructType([StructField(\"sb_Category\", StringType(), True),StructField(\"db_Category\", StringType(), True)]))\n",
        "\n",
        "dff=sdf.select('sbytes','dbytes').withColumn(\"newcat\",udfB(\"sbytes\",\"dbytes\"))\n",
        "\n",
        "# Unbundle the struct type columns into individual columns and drop the struct type \n",
        "dff1 = dff.select('sbytes','dbytes','newcat').withColumn('db_Category', dff.newcat.getItem('db_Category')).withColumn('sb_Category', dff.newcat.getItem('sb_Category')).drop('newcat')\n",
        "\n",
        "dff1.show()"
      ],
      "metadata": {
        "trusted": true,
        "colab": {
          "base_uri": "https://localhost:8080/"
        },
        "id": "GrLW-ZWo1C0Y",
        "outputId": "e7e003b9-e98c-4a86-bbcc-24ae1e1fe7a2"
      },
      "execution_count": 97,
      "outputs": [
        {
          "output_type": "stream",
          "name": "stdout",
          "text": [
            "+------+------+-----------+-----------+\n",
            "|sbytes|dbytes|db_Category|sb_Category|\n",
            "+------+------+-----------+-----------+\n",
            "|   550|   268|        Low|      Small|\n",
            "|  1156|   536|        Low|      Small|\n",
            "| 11724|   468|        Low|      Large|\n",
            "|   200|     0|        Low|      Small|\n",
            "| 10880|     0|        Low|      Large|\n",
            "|   776|  2122|        Mid|      Small|\n",
            "|   168|     0|        Low|      Small|\n",
            "|  1040|  3396|        Mid|      Small|\n",
            "|   114|     0|        Low|      Small|\n",
            "|   114|     0|        Low|      Small|\n",
            "|   114|     0|        Low|      Small|\n",
            "|   114|     0|        Low|      Small|\n",
            "|   168|     0|        Low|      Small|\n",
            "|   748|   268|        Low|      Small|\n",
            "|   406|     0|        Low|      Small|\n",
            "| 34706|  1010|        Mid|      Large|\n",
            "| 24635|  1920|        Mid|      Large|\n",
            "|  3110|466124|       High|      Small|\n",
            "|   168|     0|        Low|      Small|\n",
            "|   200|     0|        Low|      Small|\n",
            "+------+------+-----------+-----------+\n",
            "only showing top 20 rows\n",
            "\n"
          ]
        }
      ]
    },
    {
      "cell_type": "code",
      "source": [
        "from pyspark.sql.functions import concat\n",
        "dff1 =dff1.withColumn('sbdb_Category', concat(dff1.db_Category,dff1.sb_Category))\n",
        "dff1.show()"
      ],
      "metadata": {
        "trusted": true,
        "colab": {
          "base_uri": "https://localhost:8080/"
        },
        "id": "NWPS7KUy1C0Z",
        "outputId": "3d6f7e8d-9d95-412a-a226-d47705afebdc"
      },
      "execution_count": 98,
      "outputs": [
        {
          "output_type": "stream",
          "name": "stdout",
          "text": [
            "+------+------+-----------+-----------+-------------+\n",
            "|sbytes|dbytes|db_Category|sb_Category|sbdb_Category|\n",
            "+------+------+-----------+-----------+-------------+\n",
            "|   550|   268|        Low|      Small|     LowSmall|\n",
            "|  1156|   536|        Low|      Small|     LowSmall|\n",
            "| 11724|   468|        Low|      Large|     LowLarge|\n",
            "|   200|     0|        Low|      Small|     LowSmall|\n",
            "| 10880|     0|        Low|      Large|     LowLarge|\n",
            "|   776|  2122|        Mid|      Small|     MidSmall|\n",
            "|   168|     0|        Low|      Small|     LowSmall|\n",
            "|  1040|  3396|        Mid|      Small|     MidSmall|\n",
            "|   114|     0|        Low|      Small|     LowSmall|\n",
            "|   114|     0|        Low|      Small|     LowSmall|\n",
            "|   114|     0|        Low|      Small|     LowSmall|\n",
            "|   114|     0|        Low|      Small|     LowSmall|\n",
            "|   168|     0|        Low|      Small|     LowSmall|\n",
            "|   748|   268|        Low|      Small|     LowSmall|\n",
            "|   406|     0|        Low|      Small|     LowSmall|\n",
            "| 34706|  1010|        Mid|      Large|     MidLarge|\n",
            "| 24635|  1920|        Mid|      Large|     MidLarge|\n",
            "|  3110|466124|       High|      Small|    HighSmall|\n",
            "|   168|     0|        Low|      Small|     LowSmall|\n",
            "|   200|     0|        Low|      Small|     LowSmall|\n",
            "+------+------+-----------+-----------+-------------+\n",
            "only showing top 20 rows\n",
            "\n"
          ]
        }
      ]
    },
    {
      "cell_type": "code",
      "source": [
        "####"
      ],
      "metadata": {
        "trusted": true,
        "id": "2VZe2TWu1C0Z"
      },
      "execution_count": null,
      "outputs": []
    },
    {
      "cell_type": "code",
      "source": [
        "#droping duplicate rows if there exist\n",
        "\n",
        "sdf = sdf.dropDuplicates()"
      ],
      "metadata": {
        "trusted": true,
        "id": "v9YEwVMH1C0Z"
      },
      "execution_count": 52,
      "outputs": []
    },
    {
      "cell_type": "code",
      "source": [
        "#Showing 10 rows of our dataframe\n",
        "sdf.show(10)"
      ],
      "metadata": {
        "trusted": true,
        "colab": {
          "base_uri": "https://localhost:8080/"
        },
        "id": "2KGjNHPm1C0a",
        "outputId": "850cac59-2434-4df8-9ecf-bc00ee8fcae9"
      },
      "execution_count": 53,
      "outputs": [
        {
          "output_type": "stream",
          "name": "stdout",
          "text": [
            "+------+------------+------+------+----+----+-----+-----+--------+---------+-----------+-----+-----+----+----+----------+----------+-------+-------+-----------+-----------+---------+----------+----------+----------+------------+------------+------------+---------------+------------+----------------+------------+----------+----------+----------+----------+----------+----------------+----------------+--------------+----------+-----+------+------+----+\n",
            "|dsport|         dur|sbytes|dbytes|sttl|dttl|sloss|dloss| service|    Sload|      Dload|Spkts|Dpkts|swin|dwin|     stcpb|     dtcpb|smeansz|dmeansz|trans_depth|res_bdy_len|     Sjit|      Djit|   Sintpkt|   Dintpkt|      tcprtt|      synack|      ackdat|is_sm_ips_ports|ct_state_ttl|ct_flw_http_mthd|is_ftp_login|ct_ftp_cmd|ct_srv_src|ct_srv_dst|ct_dst_ltm|ct_src_ltm|ct_src_dport_ltm|ct_dst_sport_ltm|ct_dst_src_ltm|attack_cat|Label|xProto|xState|xSer|\n",
            "+------+------------+------+------+----+----+-----+-----+--------+---------+-----------+-----+-----+----+----+----------+----------+-------+-------+-----------+-----------+---------+----------+----------+----------+------------+------------+------------+---------------+------------+----------------+------------+----------+----------+----------+----------+----------+----------------+----------------+--------------+----------+-----+------+------+----+\n",
            "|  6881|   2.7908299| 10476|395734|  31|  29|   16|  143|       -|29863.518|  1130840.8|  180|  320| 255| 255|3934392726|3961690324|     58|   1237|          0|          0|2707.4927|  2018.976| 15.589459| 8.7470121|6.8400003E-4|5.3199998E-4|1.5199999E-4|              0|           0|               0|           0|         0|        11|         4|         3|         2|               1|               1|             1|      null|    0|   0.0|   0.0| 0.0|\n",
            "|    80|    1.174678|  1684| 10168|  31|  29|    3|    5|    http| 10651.43|  65406.863|   14|   18| 255| 255|1369226165|1370367214|    120|    565|          1|       3924|8873.6934| 7770.9492| 90.332466| 69.066353|6.7699997E-4|5.4600002E-4|1.3099999E-4|              0|           0|               1|           0|         0|         2|         1|         1|         3|               2|               1|             1|      null|    0|   0.0|   0.0| 2.0|\n",
            "| 49770|    0.025828|  2958| 29104|  31|  29|    7|   17|       -|897320.75|  8827009.0|   48|   48| 255| 255|1059065992|3225798184|     62|    606|          0|          0|36.460026|0.96176702|0.54268098|0.53812802|     6.88E-4|5.3000002E-4|     1.58E-4|              0|           0|               0|           0|         0|        13|        13|         7|         8|               1|               1|             3|      null|    0|   0.0|   0.0| 0.0|\n",
            "|  4074| 0.095002003|  4654| 70716|  31|  29|    7|   33|       -|387023.41|  5878613.0|   80|   78| 255| 255|1191580780|1191920487|     58|    907|          0|          0|84.289703|   2.37711|  1.198329|   1.22548|7.8399997E-4|6.2900002E-4|     1.55E-4|              0|           0|               0|           0|         0|         2|         2|         2|         2|               1|               1|             1|      null|    0|   0.0|   0.0| 0.0|\n",
            "|  3732|    0.020948|  3390| 42716|  31|  29|    7|   22|       -|1271720.4|1.6032079E7|   56|   58| 255| 255|2412159205| 267075276|     61|    736|          0|          0|20.115667| 19.635832|0.37489101|0.35778901|6.6399999E-4|5.4400001E-4|      1.2E-4|              0|           0|               0|           0|         0|         8|         1|         3|         4|               1|               1|             1|      null|    0|   0.0|   0.0| 0.0|\n",
            "| 60580|    0.039035|  2854| 29104|  31|  29|    7|   17|       -|572204.44|  5840502.0|   46|   48| 255| 255|3889489470|1764778519|     62|    606|          0|          0|      0.0| 58.974579|  0.860044|0.83658701|6.8300002E-4|5.4899999E-4|     1.34E-4|              0|           0|               0|           0|         0|         3|         3|         4|         2|               1|               1|             1|      null|    0|   0.0|   0.0| 0.0|\n",
            "|  6881|    0.016182|  1540|  1644|  31|  29|    4|    4|       -|713879.63|  767766.69|   16|   18| 255| 255|1396622002|3548842785|     96|     91|          0|          0|73.245682|  1.634093|  1.054067|0.92394102|6.0000003E-4|4.6899999E-4|1.3099999E-4|              0|           0|               0|           0|         0|        10|        12|         6|        10|               5|               1|             5|      null|    0|   0.0|   0.0| 0.0|\n",
            "|  9277|  0.35551301|  8928|   320|  31|  29|    4|    1|ftp-data|186569.83|  6008.2192|   14|    6| 255| 255|3759781570|1961895880|    638|     53|          0|          0|2186.4438| 86.915161| 27.347155| 70.968796|     7.03E-4|     5.27E-4|     1.76E-4|              0|           0|               0|           0|         0|         4|         3|         2|         3|               1|               1|             2|      null|    0|   0.0|   0.0| 3.0|\n",
            "|   111|0.0049569998|   568|   320|  31|  29|    0|    0|       -|687512.63|  387331.06|    4|    4|   0|   0|         0|         0|    142|     80|          0|          0| 1.792047| 1.5756691|  1.274667|  1.123667|         0.0|         0.0|         0.0|              0|           0|               0|           0|         0|        17|        13|         7|         3|               1|               1|             3|      null|    0|   1.0|   1.0| 0.0|\n",
            "|  3354|  0.22342899|   424|  8824|  31|  29|    1|    4|ftp-data|13283.862|  289631.16|    8|   12| 255| 255|4074653068|2045079518|     53|    735|          0|          0|2164.2173| 1725.9652| 31.871143| 20.262455|6.7099999E-4|5.3700001E-4|     1.34E-4|              0|           0|               0|           0|         0|         5|         3|         3|         5|               1|               1|             3|      null|    0|   0.0|   0.0| 3.0|\n",
            "+------+------------+------+------+----+----+-----+-----+--------+---------+-----------+-----+-----+----+----+----------+----------+-------+-------+-----------+-----------+---------+----------+----------+----------+------------+------------+------------+---------------+------------+----------------+------------+----------+----------+----------+----------+----------+----------------+----------------+--------------+----------+-----+------+------+----+\n",
            "only showing top 10 rows\n",
            "\n"
          ]
        }
      ]
    },
    {
      "cell_type": "code",
      "source": [
        "#Check total no of rows after dropping duplicates\n",
        "sdf.count()"
      ],
      "metadata": {
        "trusted": true,
        "colab": {
          "base_uri": "https://localhost:8080/"
        },
        "id": "UxQOLXtI1C0a",
        "outputId": "62131654-dfc5-4557-cfa1-e9858b8f3bd0"
      },
      "execution_count": 54,
      "outputs": [
        {
          "output_type": "execute_result",
          "data": {
            "text/plain": [
              "2027421"
            ]
          },
          "metadata": {},
          "execution_count": 54
        }
      ]
    },
    {
      "cell_type": "code",
      "source": [
        "\n",
        "#Analytical method -1 Descriptive Statistic\n"
      ],
      "metadata": {
        "trusted": true,
        "id": "IDxVYWfY1C0b"
      },
      "execution_count": null,
      "outputs": []
    },
    {
      "cell_type": "code",
      "source": [
        "# on first few columns\n",
        "sdf.describe('sbytes','dbytes','dur','sttl','dttl','sloss','dloss','Sload','Dload').show()"
      ],
      "metadata": {
        "trusted": true,
        "colab": {
          "base_uri": "https://localhost:8080/"
        },
        "id": "WnwB2TK-1C0b",
        "outputId": "40446d37-b6e0-4ee8-a24a-0e7768c6c7a3"
      },
      "execution_count": 99,
      "outputs": [
        {
          "output_type": "stream",
          "name": "stdout",
          "text": [
            "+-------+-----------------+------------------+------------------+------------------+------------------+------------------+-----------------+------------------+------------------+\n",
            "|summary|           sbytes|            dbytes|               dur|              sttl|              dttl|             sloss|            dloss|             Sload|             Dload|\n",
            "+-------+-----------------+------------------+------------------+------------------+------------------+------------------+-----------------+------------------+------------------+\n",
            "|  count|            88442|             88442|             88442|             88442|             88442|             88442|            88442|             88442|             88442|\n",
            "|   mean|19907.55143483865|15498.814443364012| 1.503079145683704|210.31303000836706| 155.1389045928405| 9.089448452092897| 7.13192826937428|7.83026710834483E7|  40129.5307344183|\n",
            "| stddev|294807.2598380079|213655.63434019542|5.8718223874597975| 80.61123534628534|122.28671380077434|111.02066673241623|79.46089616187437|2.37585248680384E8|168986.05571671255|\n",
            "|    min|                0|                 0|               0.0|                 0|                 0|                 0|                0|               0.0|               0.0|\n",
            "|    max|         14355774|          14657531|         59.999527|               255|               253|              5319|             5507|       5.9880003E9|         2447663.3|\n",
            "+-------+-----------------+------------------+------------------+------------------+------------------+------------------+-----------------+------------------+------------------+\n",
            "\n"
          ]
        }
      ]
    },
    {
      "cell_type": "code",
      "source": [
        "#On next few columns\n",
        "sdf.describe('Spkts','Dpkts','swin','dwin','smeansz','dmeansz','trans_depth','res_bdy_len','Sjit').show()"
      ],
      "metadata": {
        "trusted": true,
        "colab": {
          "base_uri": "https://localhost:8080/"
        },
        "id": "HhCDNRv11C0c",
        "outputId": "bfa86754-1511-4b0c-b93a-18313ce29f8c"
      },
      "execution_count": 100,
      "outputs": [
        {
          "output_type": "stream",
          "name": "stdout",
          "text": [
            "+-------+-----------------+------------------+------------------+------------------+------------------+------------------+------------------+-----------------+-----------------+\n",
            "|summary|            Spkts|             Dpkts|              swin|              dwin|           smeansz|           dmeansz|       trans_depth|      res_bdy_len|             Sjit|\n",
            "+-------+-----------------+------------------+------------------+------------------+------------------+------------------+------------------+-----------------+-----------------+\n",
            "|  count|            88442|             88442|             88442|             88442|             88442|             88442|             88442|            88442|            88442|\n",
            "|   mean|25.06785237782954|19.582890481897742|156.26037403043802| 156.2574907849212|183.49365685986297|123.34494923226521|0.1990004748874969|2980.298692928699|5852.895726132238|\n",
            "| stddev| 223.647251895632|162.94596659867403|124.21459391691265|124.21526146953322| 273.5706975340044|266.00486349033844|1.1596557785199149|78032.44179501402|41415.69049885109|\n",
            "|    min|                0|                 0|                 0|                 0|                 0|                 0|                 0|                0|              0.0|\n",
            "|    max|            10646|             11018|               255|               255|              1504|              1454|               172|          6558056|        1181164.3|\n",
            "+-------+-----------------+------------------+------------------+------------------+------------------+------------------+------------------+-----------------+-----------------+\n",
            "\n"
          ]
        }
      ]
    },
    {
      "cell_type": "code",
      "source": [
        "sdf.describe('Djit','Sintpkt','Dintpkt','tcprtt','synack','ackdat','ct_srv_src','ct_srv_dst').show()"
      ],
      "metadata": {
        "trusted": true,
        "colab": {
          "base_uri": "https://localhost:8080/"
        },
        "id": "pLfF3OYt1C0c",
        "outputId": "3e998f1e-0f5a-4e0c-c81b-f19ee1574b07"
      },
      "execution_count": 101,
      "outputs": [
        {
          "output_type": "stream",
          "name": "stdout",
          "text": [
            "+-------+------------------+------------------+-----------------+-------------------+--------------------+--------------------+------------------+------------------+\n",
            "|summary|              Djit|           Sintpkt|          Dintpkt|             tcprtt|              synack|              ackdat|        ct_srv_src|        ct_srv_dst|\n",
            "+-------+------------------+------------------+-----------------+-------------------+--------------------+--------------------+------------------+------------------+\n",
            "|  count|             88442|             88442|            88442|              88442|               88442|               88442|             88442|             88442|\n",
            "|   mean| 642.6674428790922|119.81587625287416|96.07408927182497|0.07952181721506056|0.039244225998007705|0.040277591225922144| 7.049919721399335| 6.657515659980552|\n",
            "| stddev|3047.5341196055797|1080.7042787138582|602.5984163856488|0.08080726850065861| 0.04431833754942731| 0.04119070741302259|10.440125430200306|10.485643197201497|\n",
            "|    min|               0.0|               0.0|              0.0|                0.0|                 0.0|                 0.0|                 1|                 1|\n",
            "|    max|         237306.86|         84371.492|        48857.602|           1.490702|          0.59513599|           1.4240609|                67|                67|\n",
            "+-------+------------------+------------------+-----------------+-------------------+--------------------+--------------------+------------------+------------------+\n",
            "\n"
          ]
        }
      ]
    },
    {
      "cell_type": "code",
      "source": [
        "#On last few columns\n",
        "sdf.describe('ct_dst_ltm','ct_src_ltm','ct_src_dport_ltm','ct_dst_sport_ltm','ct_dst_src_ltm').show()"
      ],
      "metadata": {
        "trusted": true,
        "colab": {
          "base_uri": "https://localhost:8080/"
        },
        "id": "gbMxlPd-1C0c",
        "outputId": "bf9080b6-e421-42f3-ce8f-d16edca40c7a"
      },
      "execution_count": 102,
      "outputs": [
        {
          "output_type": "stream",
          "name": "stdout",
          "text": [
            "+-------+-----------------+-----------------+------------------+------------------+------------------+\n",
            "|summary|       ct_dst_ltm|       ct_src_ltm|  ct_src_dport_ltm|  ct_dst_sport_ltm|    ct_dst_src_ltm|\n",
            "+-------+-----------------+-----------------+------------------+------------------+------------------+\n",
            "|  count|            88442|            88442|             88442|             88442|             88442|\n",
            "|   mean|4.052441147870921|4.935019560842134|3.6468306913005133|2.7321295312181997|   6.4150516722824|\n",
            "| stddev|7.005621974485915|7.575069932589644| 6.740615132529433| 4.488959180310762|10.591458472988688|\n",
            "|    min|                1|                1|                 1|                 1|                 1|\n",
            "|    max|               67|               67|                67|                38|                67|\n",
            "+-------+-----------------+-----------------+------------------+------------------+------------------+\n",
            "\n"
          ]
        }
      ]
    },
    {
      "cell_type": "code",
      "source": [
        "\n",
        "\n",
        "#Anltical method 2 stsistical \n",
        "\n"
      ],
      "metadata": {
        "trusted": true,
        "id": "AmyWqhqc1C0d"
      },
      "execution_count": 103,
      "outputs": []
    },
    {
      "cell_type": "code",
      "source": [
        "#for some features calculating mean , min and max\n",
        "from pyspark.sql.functions import mean, min, max\n",
        "colms = ['sbytes','dbytes','sttl','dttl','sloss','dloss','Sload','Dload']\n",
        "for i in range(len(colms)):\n",
        "    clm = colms[i]\n",
        "    sdf.select([mean(clm), min(clm), max(clm)]).show()"
      ],
      "metadata": {
        "trusted": true,
        "colab": {
          "base_uri": "https://localhost:8080/"
        },
        "id": "CUwt-phD1C0d",
        "outputId": "b95ad7c3-0d6e-4ece-c4ce-cfa7ab0d1983"
      },
      "execution_count": 104,
      "outputs": [
        {
          "output_type": "stream",
          "name": "stdout",
          "text": [
            "+-----------------+-----------+-----------+\n",
            "|      avg(sbytes)|min(sbytes)|max(sbytes)|\n",
            "+-----------------+-----------+-----------+\n",
            "|19907.55143483865|          0|   14355774|\n",
            "+-----------------+-----------+-----------+\n",
            "\n",
            "+------------------+-----------+-----------+\n",
            "|       avg(dbytes)|min(dbytes)|max(dbytes)|\n",
            "+------------------+-----------+-----------+\n",
            "|15498.814443364012|          0|   14657531|\n",
            "+------------------+-----------+-----------+\n",
            "\n",
            "+------------------+---------+---------+\n",
            "|         avg(sttl)|min(sttl)|max(sttl)|\n",
            "+------------------+---------+---------+\n",
            "|210.31303000836706|        0|      255|\n",
            "+------------------+---------+---------+\n",
            "\n",
            "+-----------------+---------+---------+\n",
            "|        avg(dttl)|min(dttl)|max(dttl)|\n",
            "+-----------------+---------+---------+\n",
            "|155.1389045928405|        0|      253|\n",
            "+-----------------+---------+---------+\n",
            "\n",
            "+-----------------+----------+----------+\n",
            "|       avg(sloss)|min(sloss)|max(sloss)|\n",
            "+-----------------+----------+----------+\n",
            "|9.089448452092897|         0|      5319|\n",
            "+-----------------+----------+----------+\n",
            "\n",
            "+----------------+----------+----------+\n",
            "|      avg(dloss)|min(dloss)|max(dloss)|\n",
            "+----------------+----------+----------+\n",
            "|7.13192826937428|         0|      5507|\n",
            "+----------------+----------+----------+\n",
            "\n",
            "+------------------+----------+-----------+\n",
            "|        avg(Sload)|min(Sload)| max(Sload)|\n",
            "+------------------+----------+-----------+\n",
            "|7.83026710834483E7|       0.0|5.9880003E9|\n",
            "+------------------+----------+-----------+\n",
            "\n",
            "+----------------+----------+----------+\n",
            "|      avg(Dload)|min(Dload)|max(Dload)|\n",
            "+----------------+----------+----------+\n",
            "|40129.5307344183|       0.0| 2447663.3|\n",
            "+----------------+----------+----------+\n",
            "\n"
          ]
        }
      ]
    },
    {
      "cell_type": "code",
      "source": [
        "\n",
        "\n",
        "\n",
        "#Analytical method 3 : Covariance\n",
        "\n",
        "\n",
        "\n"
      ],
      "metadata": {
        "trusted": true,
        "id": "ZTbGraS11C0d"
      },
      "execution_count": null,
      "outputs": []
    },
    {
      "cell_type": "code",
      "source": [
        "#Sample covarience on some pairs of columns\n",
        "\n",
        "print(\"Covariance between sbytes and dbytes\", sdf.stat.cov('sbytes', 'dbytes'))\n",
        "print(\"Covariance between sloss and dloss\", sdf.stat.cov('sloss', 'dloss'))\n",
        "print(\"Covariance between Sload and Dload\",sdf.stat.cov('Sload', 'Dload'))\n",
        "print(\"Covariance between swin and dwin\",sdf.stat.cov('swin', 'dwin'))"
      ],
      "metadata": {
        "trusted": true,
        "id": "wejDK66r1C0e"
      },
      "execution_count": null,
      "outputs": []
    },
    {
      "cell_type": "code",
      "source": [
        "\n",
        "\n",
        "#Analytical method 4 : Correlations\n",
        "\n"
      ],
      "metadata": {
        "trusted": true,
        "id": "8Lfa8gc81C0e"
      },
      "execution_count": null,
      "outputs": []
    },
    {
      "cell_type": "code",
      "source": [
        "import matplotlib.pyplot as plt\n",
        "from pyspark.ml.feature import VectorAssembler\n",
        "from pyspark.ml.stat import Correlation\n",
        "\n",
        "columns = ['sbytes','dbytes','dur','sttl','dttl','sloss','dloss','Sload','Dload','Spkts','Dpkts','swin','dwin','smeansz','dmeansz','trans_depth','res_bdy_len','Sjit',\n",
        "          'Djit','Sintpkt','Dintpkt','tcprtt','synack','ackdat','ct_srv_src','ct_srv_dst','ct_dst_ltm','ct_src_ltm','ct_src_dport_ltm','ct_dst_sport_ltm','ct_dst_src_ltm']\n",
        "\n",
        "\n",
        "vector_col = \"corr_features\"\n",
        "assembler = VectorAssembler(inputCols = columns, \n",
        "                            outputCol = vector_col)\n",
        "myGraph_vector = assembler.transform(sdf).select(vector_col)\n",
        "matrix = Correlation.corr(myGraph_vector, vector_col)\n",
        "\n",
        "\n",
        "matrix = Correlation.corr(myGraph_vector, vector_col).collect()[0][0]\n",
        "corrmatrix = matrix.toArray().tolist()\n",
        "print(corrmatrix)\n",
        "\n",
        "\n",
        "df = sparkSession.createDataFrame(corrmatrix,columns)\n",
        "df.show()\n",
        "\n",
        "\n",
        "def plot_corr_matrix(correlations,attr,fig_no):\n",
        "    fig=plt.figure(fig_no)\n",
        "    ax=fig.add_subplot(111)\n",
        "    ax.set_title(\"Correlation Matrix for Specified Attributes\")\n",
        "    ax.set_xticklabels(['']+attr)\n",
        "    ax.set_yticklabels(['']+attr)\n",
        "    cax=ax.matshow(correlations,vmax=1,vmin=-1)\n",
        "    fig.colorbar(cax)\n",
        "    plt.show()\n",
        "\n",
        "plot_corr_matrix(corrmatrix, columns, 234)"
      ],
      "metadata": {
        "trusted": true,
        "colab": {
          "base_uri": "https://localhost:8080/",
          "height": 1000
        },
        "id": "A3Nz8sQK1C0e",
        "outputId": "f2218792-aee1-4e0b-ead8-9a7c816dd2bc"
      },
      "execution_count": 105,
      "outputs": [
        {
          "output_type": "stream",
          "name": "stdout",
          "text": [
            "[[1.0, 0.006175623880714862, 0.3385242234342694, -0.0558862218239066, 0.05125795401007811, 0.9979420099261822, 0.002151745757054243, -0.021106855747457822, -0.010991231994347109, 0.9920880533270358, 0.20834754293449023, 0.051225551693181354, 0.0512268219514619, 0.25156905890420034, -0.01565035890640546, -0.002917773591662976, -0.0009216929159714089, -0.005549157141103834, -0.01002369114396772, -0.005807386395902831, -0.0017909671680636221, 0.03326280718373145, 0.02878086914295769, 0.034288226702953443, -0.03532528960290542, -0.03449434216311728, -0.023615709431274754, -0.02466686581553951, -0.025592309105131057, -0.02552681985882177, -0.03194983226541812], [0.006175623880714862, 1.0, 0.2317348860121382, -0.12303298160547989, 0.05726268351277899, 0.004016328924009046, 0.9994106733860125, -0.023902994014227623, 0.4090193115692473, 0.11178360628364628, 0.976491176599992, 0.057351112555802275, 0.057352478818723504, -0.03050926165626075, 0.3026601323961526, 0.014644115539217094, 0.42785771071872297, -0.0031265339081901033, 0.032321080571664766, -0.003373930053131422, -0.009171341817561032, 0.038746574317222955, 0.027830813590877496, 0.04606838609844001, -0.03667414157205983, -0.036853567502659716, -0.024650603063059492, -0.024532658305855812, -0.027047010211006816, -0.027326017722535928, -0.03108684372116432], [0.3385242234342694, 0.2317348860121382, 1.0, -0.05438340565052101, 0.05104830251809345, 0.3477145497948564, 0.23025773150579398, -0.08419557522820267, 0.063099342968618, 0.3899502357041917, 0.31022453440736925, 0.04900262977795744, 0.049005939672478085, 0.11782698889907588, 0.07221975420425387, -0.010595533766297965, 0.11941722457188615, 0.16207756119870226, 0.15222689426929537, 0.17537447544298534, 0.12406996815723996, 0.08340715158825696, 0.08353256144271039, 0.07375158174473907, -0.1103039353506041, -0.1117985670573633, -0.07879960536978194, -0.07344621896908476, -0.08725979173169585, -0.08560914599664864, -0.10075065500586104], [-0.0558862218239066, -0.12303298160547989, -0.05438340565052101, 1.0, -0.41285520098282585, -0.06439643339828797, -0.1377294979017926, 0.1730513196558782, -0.3833007049616355, -0.07879118942469887, -0.1504120077196092, -0.40742910934834553, -0.4073842131286357, -0.07619821884573456, -0.599731768651619, -0.1017028561418375, -0.06557278661407144, 0.0027610811030846713, -0.2142658263671427, 0.016945677414380238, 0.012283948506978162, -0.25940803563504783, -0.2106366567979738, -0.282272119997839, 0.2844247846744199, 0.2763640154556692, 0.18810667217517577, 0.18598346641839336, 0.20336253519885458, 0.20408583703259223, 0.2489672472981856], [0.05125795401007811, 0.05726268351277899, 0.05104830251809345, -0.41285520098282585, 1.0, 0.06484824654658962, 0.07109108374771368, -0.4177934696707649, 0.1871672042796565, 0.07499006812157412, 0.09453111837639662, 0.996077098168759, 0.9960533593273544, 0.10657264413822629, 0.35936112086458605, 0.13586398010316533, 0.030252310511553877, 0.1092679587766254, 0.16672124730925295, -0.00037510903824508786, 0.12502735680961322, 0.7792143500745811, 0.7011996115372616, 0.7742081683562679, -0.5588018994520835, -0.5666238901196451, -0.43943847011453524, -0.4332456527419694, -0.4677367750415933, -0.48084702732016427, -0.5406398474066623], [0.9979420099261822, 0.004016328924009046, 0.3477145497948564, -0.06439643339828797, 0.06484824654658962, 1.0, 0.00047291986330111655, -0.026712322699348433, -0.00905739289961669, 0.9932182979812845, 0.20907302012350104, 0.06508148655012466, 0.06508282811522853, 0.25323911529593895, -0.010466189517358448, -0.0027671856699117486, -0.0025118377322526637, -0.0035149349230800186, -0.006393338585728255, -0.0060222418758698925, 7.991899306577428e-05, 0.04390076140057132, 0.03868620979346781, 0.04450013657972047, -0.041984772760595104, -0.04121560579680798, -0.028789682183749676, -0.03021779121361026, -0.03114363162004114, -0.03110819615763938, -0.03847641952945301], [0.002151745757054243, 0.9994106733860125, 0.23025773150579398, -0.1377294979017926, 0.07109108374771368, 0.00047291986330111655, 1.0, -0.029570493725863584, 0.4119385579905768, 0.1081916373616937, 0.9760341632955365, 0.07134725555411078, 0.07134895548621971, -0.024848880836452664, 0.3082192612587274, 0.013865231028850794, 0.4249323663712661, -0.002378094231378921, 0.03615741896921762, -0.0037153764419960776, -0.008601958120274818, 0.048666336076359416, 0.03646937775223843, 0.056234320993625166, -0.04499218733138353, -0.045096793244967556, -0.030666332896984623, -0.03052005136106415, -0.033574062077119285, -0.03390546030274781, -0.03870000424442325], [-0.021106855747457822, -0.023902994014227623, -0.08419557522820267, 0.1730513196558782, -0.4177934696707649, -0.026712322699348433, -0.029570493725863584, 1.0, -0.07824427101740174, -0.03370842691283356, -0.039540127177599055, -0.4142817829879623, -0.41427190674654074, 0.2488216187230897, -0.15277036452775358, -0.05649919462127129, -0.012586437882746373, -0.04582613575118237, -0.06948804721795263, -0.00827995141087425, -0.05252315066764299, -0.3241199493409807, -0.291658193732184, -0.3220493730260047, 0.12060387956113436, 0.12325001813229695, 0.07020569379219017, 0.07607760941014649, 0.07511863809399537, 0.04892993052787687, 0.10955556427194955], [-0.010991231994347109, 0.4090193115692473, 0.063099342968618, -0.3833007049616355, 0.1871672042796565, -0.00905739289961669, 0.4119385579905768, -0.07824427101740174, 1.0, 0.03499442938531704, 0.4012988028127406, 0.1863922134008942, 0.1863966450352291, -0.08410853830415023, 0.7998671897688099, 0.07062427405644603, 0.21726343527006303, -0.015491967541578963, 0.07498845744269828, -0.014217797297469428, -0.027944890068216956, 0.0498363058479293, 0.01833667922646866, 0.0780390724992419, -0.12444212764868029, -0.1214858892310783, -0.08761901613056171, -0.08634564769941379, -0.09022357541037505, -0.09072214231036843, -0.11172993440620009], [0.9920880533270358, 0.11178360628364628, 0.3899502357041917, -0.07879118942469887, 0.07499006812157412, 0.9932182979812845, 0.1081916373616937, -0.03370842691283356, 0.03499442938531704, 1.0, 0.31310961589099023, 0.07494593730616356, 0.07494751355297648, 0.2501967020467948, 0.02338404989610233, -0.0008229838497542, 0.044268043052611505, -0.0033765990620475902, -0.0019414065903293701, -0.004909278846833867, -0.00010194064539991881, 0.051210938804339225, 0.04451135830812157, 0.05257367033735781, -0.05186717561117279, -0.05124842458108836, -0.03591872357170661, -0.03652567621841864, -0.03892151587819984, -0.038923673529893475, -0.04740245524389364], [0.20834754293449023, 0.976491176599992, 0.31022453440736925, -0.1504120077196092, 0.09453111837639662, 0.20907302012350104, 0.9760341632955365, -0.039540127177599055, 0.4012988028127406, 0.31310961589099023, 1.0, 0.0938323226808121, 0.09383432312546296, 0.028770084102888473, 0.30185794875102623, 0.01427460897807408, 0.41432424566737325, -0.0009223271906279833, 0.035972438214299705, -0.004477284246136027, -0.005856227197438517, 0.06605694431211634, 0.052661076791429076, 0.07292979451565809, -0.05925589295535413, -0.059051592460794576, -0.04134148361315445, -0.041404388421561605, -0.04493879525504284, -0.045409503032283145, -0.05240839307549726], [0.051225551693181354, 0.057351112555802275, 0.04900262977795744, -0.40742910934834553, 0.996077098168759, 0.06508148655012466, 0.07134725555411078, -0.4142817829879623, 0.1863922134008942, 0.07494593730616356, 0.0938323226808121, 1.0, 0.9999761743934659, 0.10513104556268112, 0.3551435452471962, 0.13641080780957296, 0.030360460854747015, 0.10966882569214506, 0.16702778296403295, -0.0001714783688504749, 0.12452093880068706, 0.782229507072428, 0.7038569437901362, 0.7772641501886214, -0.5541492132226222, -0.5620114120144349, -0.43580847016250523, -0.430071509254691, -0.4643734489817641, -0.4774857777558666, -0.5358513906418312], [0.0512268219514619, 0.057352478818723504, 0.049005939672478085, -0.4073842131286357, 0.9960533593273544, 0.06508282811522853, 0.07134895548621971, -0.41427190674654074, 0.1863966450352291, 0.07494751355297648, 0.09383432312546296, 0.9999761743934659, 1.0, 0.10514214664396417, 0.35514864765906484, 0.13641405795724684, 0.0303611842283806, 0.10966746797303427, 0.1670317802918333, -0.00017147128991172229, 0.12452397027929044, 0.7822481459469364, 0.703873715507149, 0.777282670431795, -0.5541372307882064, -0.5619980813867534, -0.435799327640445, -0.4300602043328839, -0.4643618387523082, -0.47747425500712326, -0.5358388349856962], [0.25156905890420034, -0.03050926165626075, 0.11782698889907588, -0.07619821884573456, 0.10657264413822629, 0.25323911529593895, -0.024848880836452664, 0.2488216187230897, -0.08410853830415023, 0.2501967020467948, 0.028770084102888473, 0.10513104556268112, 0.10514214664396417, 1.0, -0.10249965226786015, 0.017605090702386424, -0.0181679336475879, -0.014306199657769596, -0.053142546850121826, 0.00652335094582965, 0.0002880426212960053, 0.09631811549383247, 0.08971586016626483, 0.09242730429469737, -0.15349769198589247, -0.15560937853785076, -0.1281124993916906, -0.13132326793746363, -0.1428687799359802, -0.16878118267214892, -0.14961255703650245], [-0.01565035890640546, 0.3026601323961526, 0.07221975420425387, -0.599731768651619, 0.35936112086458605, -0.010466189517358448, 0.3082192612587274, -0.15277036452775358, 0.7998671897688099, 0.02338404989610233, 0.30185794875102623, 0.3551435452471962, 0.35514864765906484, -0.10249965226786015, 1.0, 0.10670394198921718, 0.1633470575424035, 0.0026923147125375957, 0.26127720541030414, -0.012054203952653332, -0.016933318494790472, 0.23463608970956576, 0.19373410622846773, 0.25186088390810213, -0.23183053077346183, -0.2290377639539085, -0.16474724332700552, -0.16096988399473053, -0.17418481242970166, -0.17646533908417295, -0.21203295978703823], [-0.002917773591662976, 0.014644115539217094, -0.010595533766297965, -0.1017028561418375, 0.13586398010316533, -0.0027671856699117486, 0.013865231028850794, -0.05649919462127129, 0.07062427405644603, -0.0008229838497542, 0.01427460897807408, 0.13641080780957296, 0.13641405795724684, 0.017605090702386424, 0.10670394198921718, 1.0, 0.02636589364691767, -0.002141502839703587, 0.02626790851895858, -0.0064903577728540425, 2.5655160992517095e-05, 0.0878601143502164, 0.07143612110862306, 0.09550226118277474, -0.08667710214357262, -0.08585886240037702, -0.05864816338458772, -0.058119321325004955, -0.06296202105246797, -0.06518670243988545, -0.07717120961055983], [-0.0009216929159714089, 0.42785771071872297, 0.11941722457188615, -0.06557278661407144, 0.030252310511553877, -0.0025118377322526637, 0.4249323663712661, -0.012586437882746373, 0.21726343527006303, 0.044268043052611505, 0.41432424566737325, 0.030360460854747015, 0.0303611842283806, -0.0181679336475879, 0.1633470575424035, 0.02636589364691767, 1.0, -0.0020814727239396153, 0.011721537028288006, -0.0016336256208977283, -0.004655410180915871, 0.028469094088958372, 0.021518084192300894, 0.03269824802550176, -0.02083308227376378, -0.01992537608809329, -0.009040028547435188, -0.009499651718834547, -0.014215758254096513, -0.01451575027449406, -0.011582011183896724], [-0.005549157141103834, -0.0031265339081901033, 0.16207756119870226, 0.0027610811030846713, 0.1092679587766254, -0.0035149349230800186, -0.002378094231378921, -0.04582613575118237, -0.015491967541578963, -0.0033765990620475902, -0.0009223271906279833, 0.10966882569214506, 0.10966746797303427, -0.014306199657769596, 0.0026923147125375957, -0.002141502839703587, -0.0020814727239396153, 1.0, 0.5279233697443825, 0.3766072447325206, 0.9580329264369228, 0.1255246013131025, 0.12279471523407855, 0.11413357060448928, -0.04359169685841951, -0.04743582327603521, -0.04051609762028216, -0.040484651837973284, -0.04177532515545691, -0.03990894916217917, -0.04904487504686469], [-0.01002369114396772, 0.032321080571664766, 0.15222689426929537, -0.2142658263671427, 0.16672124730925295, -0.006393338585728255, 0.03615741896921762, -0.06948804721795263, 0.07498845744269828, -0.0019414065903293701, 0.035972438214299705, 0.16702778296403295, 0.1670317802918333, -0.053142546850121826, 0.26127720541030414, 0.02626790851895858, 0.011721537028288006, 0.5279233697443825, 1.0, 0.18313637201541658, 0.49272451031805, 0.1805658703143846, 0.16826261146320495, 0.17319235305759548, -0.09368062202053197, -0.09375810297853025, -0.06558031097016838, -0.0664508517533397, -0.07237595411094642, -0.0738083589648728, -0.08587081911619361], [-0.005807386395902831, -0.003373930053131422, 0.17537447544298534, 0.016945677414380238, -0.00037510903824508786, -0.0060222418758698925, -0.0037153764419960776, -0.00827995141087425, -0.014217797297469428, -0.004909278846833867, -0.004477284246136027, -0.0001714783688504749, -0.00017147128991172229, 0.00652335094582965, -0.012054203952653332, -0.0064903577728540425, -0.0016336256208977283, 0.3766072447325206, 0.18313637201541658, 1.0, 0.34411962238385935, 0.020094429913928444, 0.022221050836082636, 0.015512624013036755, -0.030240329901987068, -0.032509407445107365, -0.030773601195463574, -0.02899262360746327, -0.03163516562105341, -0.032953373161351406, -0.034910221136698165], [-0.0017909671680636221, -0.009171341817561032, 0.12406996815723996, 0.012283948506978162, 0.12502735680961322, 7.991899306577428e-05, -0.008601958120274818, -0.05252315066764299, -0.027944890068216956, -0.00010194064539991881, -0.005856227197438517, 0.12452093880068706, 0.12452397027929044, 0.0002880426212960053, -0.016933318494790472, 2.5655160992517095e-05, -0.004655410180915871, 0.9580329264369228, 0.49272451031805, 0.34411962238385935, 1.0, 0.14324034483998768, 0.13886926595353088, 0.13159293264808816, -0.05151998047538479, -0.055955803412934026, -0.0477254755840182, -0.047507556272538325, -0.04931946701720743, -0.047820157437928085, -0.05749606378233268], [0.03326280718373145, 0.038746574317222955, 0.08340715158825696, -0.25940803563504783, 0.7792143500745811, 0.04390076140057132, 0.048666336076359416, -0.3241199493409807, 0.0498363058479293, 0.051210938804339225, 0.06605694431211634, 0.782229507072428, 0.7822481459469364, 0.09631811549383247, 0.23463608970956576, 0.0878601143502164, 0.028469094088958372, 0.1255246013131025, 0.1805658703143846, 0.020094429913928444, 0.14324034483998768, 1.0, 0.9490076187485137, 0.9407177232009496, -0.42145779776429226, -0.4335289246680573, -0.3419032909175185, -0.33997943365308403, -0.36284314941780443, -0.37254083171273383, -0.416262880816656], [0.02878086914295769, 0.027830813590877496, 0.08353256144271039, -0.2106366567979738, 0.7011996115372616, 0.03868620979346781, 0.03646937775223843, -0.291658193732184, 0.01833667922646866, 0.04451135830812157, 0.052661076791429076, 0.7038569437901362, 0.703873715507149, 0.08971586016626483, 0.19373410622846773, 0.07143612110862306, 0.021518084192300894, 0.12279471523407855, 0.16826261146320495, 0.022221050836082636, 0.13886926595353088, 0.9490076187485137, 1.0, 0.7858174316483081, -0.3724468340193183, -0.3845855132941643, -0.30488953214186104, -0.30185782908514197, -0.3254253237363769, -0.33493137473933715, -0.3701581390549991], [0.034288226702953443, 0.04606838609844001, 0.07375158174473907, -0.282272119997839, 0.7742081683562679, 0.04450013657972047, 0.056234320993625166, -0.3220493730260047, 0.0780390724992419, 0.05257367033735781, 0.07292979451565809, 0.7772641501886214, 0.777282670431795, 0.09242730429469737, 0.25186088390810213, 0.09550226118277474, 0.03269824802550176, 0.11413357060448928, 0.17319235305759548, 0.015512624013036755, 0.13159293264808816, 0.9407177232009496, 0.7858174316483081, 1.0, -0.4260822407452492, -0.43670280879048223, -0.3427004469672672, -0.3421881562095644, -0.3616848409376052, -0.3704817483583474, -0.4183534129735383], [-0.03532528960290542, -0.03667414157205983, -0.1103039353506041, 0.2844247846744199, -0.5588018994520835, -0.041984772760595104, -0.04499218733138353, 0.12060387956113436, -0.12444212764868029, -0.05186717561117279, -0.05925589295535413, -0.5541492132226222, -0.5541372307882064, -0.15349769198589247, -0.23183053077346183, -0.08667710214357262, -0.02083308227376378, -0.04359169685841951, -0.09368062202053197, -0.030240329901987068, -0.05151998047538479, -0.42145779776429226, -0.3724468340193183, -0.4260822407452492, 1.0, 0.9847917478245033, 0.790297644171378, 0.7066860095450878, 0.8406985960560378, 0.7887904902279443, 0.9531536603414218], [-0.03449434216311728, -0.036853567502659716, -0.1117985670573633, 0.2763640154556692, -0.5666238901196451, -0.04121560579680798, -0.045096793244967556, 0.12325001813229695, -0.1214858892310783, -0.05124842458108836, -0.059051592460794576, -0.5620114120144349, -0.5619980813867534, -0.15560937853785076, -0.2290377639539085, -0.08585886240037702, -0.01992537608809329, -0.04743582327603521, -0.09375810297853025, -0.032509407445107365, -0.055955803412934026, -0.4335289246680573, -0.3845855132941643, -0.43670280879048223, 0.9847917478245033, 1.0, 0.8015495853372243, 0.7083828254847665, 0.8468062247026535, 0.7978922043656315, 0.9637124384931831], [-0.023615709431274754, -0.024650603063059492, -0.07879960536978194, 0.18810667217517577, -0.43943847011453524, -0.028789682183749676, -0.030666332896984623, 0.07020569379219017, -0.08761901613056171, -0.03591872357170661, -0.04134148361315445, -0.43580847016250523, -0.435799327640445, -0.1281124993916906, -0.16474724332700552, -0.05864816338458772, -0.009040028547435188, -0.04051609762028216, -0.06558031097016838, -0.030773601195463574, -0.0477254755840182, -0.3419032909175185, -0.30488953214186104, -0.3427004469672672, 0.790297644171378, 0.8015495853372243, 1.0, 0.8263379532355276, 0.9481570668099399, 0.8644535103127765, 0.8126109160066666], [-0.02466686581553951, -0.024532658305855812, -0.07344621896908476, 0.18598346641839336, -0.4332456527419694, -0.03021779121361026, -0.03052005136106415, 0.07607760941014649, -0.08634564769941379, -0.03652567621841864, -0.041404388421561605, -0.430071509254691, -0.4300602043328839, -0.13132326793746363, -0.16096988399473053, -0.058119321325004955, -0.009499651718834547, -0.040484651837973284, -0.0664508517533397, -0.02899262360746327, -0.047507556272538325, -0.33997943365308403, -0.30185782908514197, -0.3421881562095644, 0.7066860095450878, 0.7083828254847665, 0.8263379532355276, 1.0, 0.8530069750994571, 0.7769019027805607, 0.72013469196263], [-0.025592309105131057, -0.027047010211006816, -0.08725979173169585, 0.20336253519885458, -0.4677367750415933, -0.03114363162004114, -0.033574062077119285, 0.07511863809399537, -0.09022357541037505, -0.03892151587819984, -0.04493879525504284, -0.4643734489817641, -0.4643618387523082, -0.1428687799359802, -0.17418481242970166, -0.06296202105246797, -0.014215758254096513, -0.04177532515545691, -0.07237595411094642, -0.03163516562105341, -0.04931946701720743, -0.36284314941780443, -0.3254253237363769, -0.3616848409376052, 0.8406985960560378, 0.8468062247026535, 0.9481570668099399, 0.8530069750994571, 1.0, 0.9095473700981622, 0.8375307221343624], [-0.02552681985882177, -0.027326017722535928, -0.08560914599664864, 0.20408583703259223, -0.48084702732016427, -0.03110819615763938, -0.03390546030274781, 0.04892993052787687, -0.09072214231036843, -0.038923673529893475, -0.045409503032283145, -0.4774857777558666, -0.47747425500712326, -0.16878118267214892, -0.17646533908417295, -0.06518670243988545, -0.01451575027449406, -0.03990894916217917, -0.0738083589648728, -0.032953373161351406, -0.047820157437928085, -0.37254083171273383, -0.33493137473933715, -0.3704817483583474, 0.7887904902279443, 0.7978922043656315, 0.8644535103127765, 0.7769019027805607, 0.9095473700981622, 1.0, 0.7940549427475851], [-0.03194983226541812, -0.03108684372116432, -0.10075065500586104, 0.2489672472981856, -0.5406398474066623, -0.03847641952945301, -0.03870000424442325, 0.10955556427194955, -0.11172993440620009, -0.04740245524389364, -0.05240839307549726, -0.5358513906418312, -0.5358388349856962, -0.14961255703650245, -0.21203295978703823, -0.07717120961055983, -0.011582011183896724, -0.04904487504686469, -0.08587081911619361, -0.034910221136698165, -0.05749606378233268, -0.416262880816656, -0.3701581390549991, -0.4183534129735383, 0.9531536603414218, 0.9637124384931831, 0.8126109160066666, 0.72013469196263, 0.8375307221343624, 0.7940549427475851, 1.0]]\n",
            "+--------------------+--------------------+--------------------+--------------------+--------------------+--------------------+--------------------+--------------------+--------------------+--------------------+--------------------+--------------------+--------------------+--------------------+--------------------+--------------------+--------------------+--------------------+--------------------+--------------------+--------------------+--------------------+--------------------+--------------------+--------------------+--------------------+--------------------+--------------------+--------------------+--------------------+--------------------+\n",
            "|              sbytes|              dbytes|                 dur|                sttl|                dttl|               sloss|               dloss|               Sload|               Dload|               Spkts|               Dpkts|                swin|                dwin|             smeansz|             dmeansz|         trans_depth|         res_bdy_len|                Sjit|                Djit|             Sintpkt|             Dintpkt|              tcprtt|              synack|              ackdat|          ct_srv_src|          ct_srv_dst|          ct_dst_ltm|          ct_src_ltm|    ct_src_dport_ltm|    ct_dst_sport_ltm|      ct_dst_src_ltm|\n",
            "+--------------------+--------------------+--------------------+--------------------+--------------------+--------------------+--------------------+--------------------+--------------------+--------------------+--------------------+--------------------+--------------------+--------------------+--------------------+--------------------+--------------------+--------------------+--------------------+--------------------+--------------------+--------------------+--------------------+--------------------+--------------------+--------------------+--------------------+--------------------+--------------------+--------------------+--------------------+\n",
            "|                 1.0|0.006175623880714862|  0.3385242234342694| -0.0558862218239066| 0.05125795401007811|  0.9979420099261822|0.002151745757054243|-0.02110685574745...|-0.01099123199434...|  0.9920880533270358| 0.20834754293449023|0.051225551693181354|  0.0512268219514619| 0.25156905890420034|-0.01565035890640546|-0.00291777359166...|-9.21692915971408...|-0.00554915714110...|-0.01002369114396772|-0.00580738639590...|-0.00179096716806...| 0.03326280718373145| 0.02878086914295769|0.034288226702953443|-0.03532528960290542|-0.03449434216311728|-0.02361570943127...|-0.02466686581553951|-0.02559230910513...|-0.02552681985882177|-0.03194983226541812|\n",
            "|0.006175623880714862|                 1.0|  0.2317348860121382|-0.12303298160547989| 0.05726268351277899|0.004016328924009046|  0.9994106733860125|-0.02390299401422...|  0.4090193115692473| 0.11178360628364628|   0.976491176599992|0.057351112555802275|0.057352478818723504|-0.03050926165626075|  0.3026601323961526|0.014644115539217094| 0.42785771071872297|-0.00312653390819...|0.032321080571664766|-0.00337393005313...|-0.00917134181756...|0.038746574317222955|0.027830813590877496| 0.04606838609844001|-0.03667414157205983|-0.03685356750265...|-0.02465060306305...|-0.02453265830585...|-0.02704701021100...|-0.02732601772253...|-0.03108684372116432|\n",
            "|  0.3385242234342694|  0.2317348860121382|                 1.0|-0.05438340565052101| 0.05104830251809345|  0.3477145497948564| 0.23025773150579398|-0.08419557522820267|   0.063099342968618|  0.3899502357041917| 0.31022453440736925| 0.04900262977795744|0.049005939672478085| 0.11782698889907588| 0.07221975420425387|-0.01059553376629...| 0.11941722457188615| 0.16207756119870226| 0.15222689426929537| 0.17537447544298534| 0.12406996815723996| 0.08340715158825696| 0.08353256144271039| 0.07375158174473907| -0.1103039353506041| -0.1117985670573633|-0.07879960536978194|-0.07344621896908476|-0.08725979173169585|-0.08560914599664864|-0.10075065500586104|\n",
            "| -0.0558862218239066|-0.12303298160547989|-0.05438340565052101|                 1.0|-0.41285520098282585|-0.06439643339828797| -0.1377294979017926|  0.1730513196558782| -0.3833007049616355|-0.07879118942469887| -0.1504120077196092|-0.40742910934834553| -0.4073842131286357|-0.07619821884573456|  -0.599731768651619| -0.1017028561418375|-0.06557278661407144|0.002761081103084...| -0.2142658263671427|0.016945677414380238|0.012283948506978162|-0.25940803563504783| -0.2106366567979738|  -0.282272119997839|  0.2844247846744199|  0.2763640154556692| 0.18810667217517577| 0.18598346641839336| 0.20336253519885458| 0.20408583703259223|  0.2489672472981856|\n",
            "| 0.05125795401007811| 0.05726268351277899| 0.05104830251809345|-0.41285520098282585|                 1.0| 0.06484824654658962| 0.07109108374771368| -0.4177934696707649|  0.1871672042796565| 0.07499006812157412| 0.09453111837639662|   0.996077098168759|  0.9960533593273544| 0.10657264413822629| 0.35936112086458605| 0.13586398010316533|0.030252310511553877|  0.1092679587766254| 0.16672124730925295|-3.75109038245087...| 0.12502735680961322|  0.7792143500745811|  0.7011996115372616|  0.7742081683562679| -0.5588018994520835| -0.5666238901196451|-0.43943847011453524| -0.4332456527419694| -0.4677367750415933|-0.48084702732016427| -0.5406398474066623|\n",
            "|  0.9979420099261822|0.004016328924009046|  0.3477145497948564|-0.06439643339828797| 0.06484824654658962|                 1.0|4.729198633011165...|-0.02671232269934...|-0.00905739289961669|  0.9932182979812845| 0.20907302012350104| 0.06508148655012466| 0.06508282811522853| 0.25323911529593895|-0.01046618951735...|-0.00276718566991...|-0.00251183773225...|-0.00351493492308...|-0.00639333858572...|-0.00602224187586...|7.991899306577428E-5| 0.04390076140057132| 0.03868620979346781| 0.04450013657972047|-0.04198477276059...|-0.04121560579680798|-0.02878968218374...|-0.03021779121361026|-0.03114363162004114|-0.03110819615763938|-0.03847641952945301|\n",
            "|0.002151745757054243|  0.9994106733860125| 0.23025773150579398| -0.1377294979017926| 0.07109108374771368|4.729198633011165...|                 1.0|-0.02957049372586...|  0.4119385579905768|  0.1081916373616937|  0.9760341632955365| 0.07134725555411078| 0.07134895548621971|-0.02484888083645...|  0.3082192612587274|0.013865231028850794|  0.4249323663712661|-0.00237809423137...| 0.03615741896921762|-0.00371537644199...|-0.00860195812027...|0.048666336076359416| 0.03646937775223843|0.056234320993625166|-0.04499218733138353|-0.04509679324496...|-0.03066633289698...|-0.03052005136106415|-0.03357406207711...|-0.03390546030274781|-0.03870000424442325|\n",
            "|-0.02110685574745...|-0.02390299401422...|-0.08419557522820267|  0.1730513196558782| -0.4177934696707649|-0.02671232269934...|-0.02957049372586...|                 1.0|-0.07824427101740174|-0.03370842691283356|-0.03954012717759...| -0.4142817829879623|-0.41427190674654074|  0.2488216187230897|-0.15277036452775358|-0.05649919462127129|-0.01258643788274...|-0.04582613575118237|-0.06948804721795263|-0.00827995141087425|-0.05252315066764299| -0.3241199493409807|  -0.291658193732184| -0.3220493730260047| 0.12060387956113436| 0.12325001813229695| 0.07020569379219017| 0.07607760941014649| 0.07511863809399537| 0.04892993052787687| 0.10955556427194955|\n",
            "|-0.01099123199434...|  0.4090193115692473|   0.063099342968618| -0.3833007049616355|  0.1871672042796565|-0.00905739289961669|  0.4119385579905768|-0.07824427101740174|                 1.0| 0.03499442938531704|  0.4012988028127406|  0.1863922134008942|  0.1863966450352291|-0.08410853830415023|  0.7998671897688099| 0.07062427405644603| 0.21726343527006303|-0.01549196754157...| 0.07498845744269828|-0.01421779729746...|-0.02794489006821...|  0.0498363058479293| 0.01833667922646866|  0.0780390724992419|-0.12444212764868029| -0.1214858892310783|-0.08761901613056171|-0.08634564769941379|-0.09022357541037505|-0.09072214231036843|-0.11172993440620009|\n",
            "|  0.9920880533270358| 0.11178360628364628|  0.3899502357041917|-0.07879118942469887| 0.07499006812157412|  0.9932182979812845|  0.1081916373616937|-0.03370842691283356| 0.03499442938531704|                 1.0| 0.31310961589099023| 0.07494593730616356| 0.07494751355297648|  0.2501967020467948| 0.02338404989610233|  -8.229838497542E-4|0.044268043052611505|-0.00337659906204...|-0.00194140659032...|-0.00490927884683...|-1.01940645399918...|0.051210938804339225| 0.04451135830812157| 0.05257367033735781|-0.05186717561117279|-0.05124842458108836|-0.03591872357170661|-0.03652567621841864|-0.03892151587819984|-0.03892367352989...|-0.04740245524389364|\n",
            "| 0.20834754293449023|   0.976491176599992| 0.31022453440736925| -0.1504120077196092| 0.09453111837639662| 0.20907302012350104|  0.9760341632955365|-0.03954012717759...|  0.4012988028127406| 0.31310961589099023|                 1.0|  0.0938323226808121| 0.09383432312546296|0.028770084102888473| 0.30185794875102623| 0.01427460897807408| 0.41432424566737325|-9.22327190627983...|0.035972438214299705|-0.00447728424613...|-0.00585622719743...| 0.06605694431211634|0.052661076791429076| 0.07292979451565809|-0.05925589295535413|-0.05905159246079...|-0.04134148361315445|-0.04140438842156...|-0.04493879525504284|-0.04540950303228...|-0.05240839307549726|\n",
            "|0.051225551693181354|0.057351112555802275| 0.04900262977795744|-0.40742910934834553|   0.996077098168759| 0.06508148655012466| 0.07134725555411078| -0.4142817829879623|  0.1863922134008942| 0.07494593730616356|  0.0938323226808121|                 1.0|  0.9999761743934659| 0.10513104556268112|  0.3551435452471962| 0.13641080780957296|0.030360460854747015| 0.10966882569214506| 0.16702778296403295|-1.71478368850474...| 0.12452093880068706|   0.782229507072428|  0.7038569437901362|  0.7772641501886214| -0.5541492132226222| -0.5620114120144349|-0.43580847016250523|  -0.430071509254691| -0.4643734489817641| -0.4774857777558666| -0.5358513906418312|\n",
            "|  0.0512268219514619|0.057352478818723504|0.049005939672478085| -0.4073842131286357|  0.9960533593273544| 0.06508282811522853| 0.07134895548621971|-0.41427190674654074|  0.1863966450352291| 0.07494751355297648| 0.09383432312546296|  0.9999761743934659|                 1.0| 0.10514214664396417| 0.35514864765906484| 0.13641405795724684|  0.0303611842283806| 0.10966746797303427|  0.1670317802918333|-1.71471289911722...| 0.12452397027929044|  0.7822481459469364|   0.703873715507149|   0.777282670431795| -0.5541372307882064| -0.5619980813867534|  -0.435799327640445| -0.4300602043328839| -0.4643618387523082|-0.47747425500712326| -0.5358388349856962|\n",
            "| 0.25156905890420034|-0.03050926165626075| 0.11782698889907588|-0.07619821884573456| 0.10657264413822629| 0.25323911529593895|-0.02484888083645...|  0.2488216187230897|-0.08410853830415023|  0.2501967020467948|0.028770084102888473| 0.10513104556268112| 0.10514214664396417|                 1.0|-0.10249965226786015|0.017605090702386424| -0.0181679336475879|-0.01430619965776...|-0.05314254685012...| 0.00652335094582965|2.880426212960053E-4| 0.09631811549383247| 0.08971586016626483| 0.09242730429469737|-0.15349769198589247|-0.15560937853785076| -0.1281124993916906|-0.13132326793746363| -0.1428687799359802|-0.16878118267214892|-0.14961255703650245|\n",
            "|-0.01565035890640546|  0.3026601323961526| 0.07221975420425387|  -0.599731768651619| 0.35936112086458605|-0.01046618951735...|  0.3082192612587274|-0.15277036452775358|  0.7998671897688099| 0.02338404989610233| 0.30185794875102623|  0.3551435452471962| 0.35514864765906484|-0.10249965226786015|                 1.0| 0.10670394198921718|  0.1633470575424035|0.002692314712537...| 0.26127720541030414|-0.01205420395265...|-0.01693331849479...| 0.23463608970956576| 0.19373410622846773| 0.25186088390810213|-0.23183053077346183| -0.2290377639539085|-0.16474724332700552|-0.16096988399473053|-0.17418481242970166|-0.17646533908417295|-0.21203295978703823|\n",
            "|-0.00291777359166...|0.014644115539217094|-0.01059553376629...| -0.1017028561418375| 0.13586398010316533|-0.00276718566991...|0.013865231028850794|-0.05649919462127129| 0.07062427405644603|  -8.229838497542E-4| 0.01427460897807408| 0.13641080780957296| 0.13641405795724684|0.017605090702386424| 0.10670394198921718|                 1.0| 0.02636589364691767|-0.00214150283970...| 0.02626790851895858|-0.00649035777285...|2.565516099251709...|  0.0878601143502164| 0.07143612110862306| 0.09550226118277474|-0.08667710214357262|-0.08585886240037702|-0.05864816338458772|-0.05811932132500...|-0.06296202105246797|-0.06518670243988545|-0.07717120961055983|\n",
            "|-9.21692915971408...| 0.42785771071872297| 0.11941722457188615|-0.06557278661407144|0.030252310511553877|-0.00251183773225...|  0.4249323663712661|-0.01258643788274...| 0.21726343527006303|0.044268043052611505| 0.41432424566737325|0.030360460854747015|  0.0303611842283806| -0.0181679336475879|  0.1633470575424035| 0.02636589364691767|                 1.0|-0.00208147272393...|0.011721537028288006|-0.00163362562089...|-0.00465541018091...|0.028469094088958372|0.021518084192300894| 0.03269824802550176|-0.02083308227376378|-0.01992537608809329|-0.00904002854743...|-0.00949965171883...|-0.01421575825409...|-0.01451575027449406|-0.01158201118389...|\n",
            "|-0.00554915714110...|-0.00312653390819...| 0.16207756119870226|0.002761081103084...|  0.1092679587766254|-0.00351493492308...|-0.00237809423137...|-0.04582613575118237|-0.01549196754157...|-0.00337659906204...|-9.22327190627983...| 0.10966882569214506| 0.10966746797303427|-0.01430619965776...|0.002692314712537...|-0.00214150283970...|-0.00208147272393...|                 1.0|  0.5279233697443825|  0.3766072447325206|  0.9580329264369228|  0.1255246013131025| 0.12279471523407855| 0.11413357060448928|-0.04359169685841951|-0.04743582327603521|-0.04051609762028216|-0.04048465183797...|-0.04177532515545691|-0.03990894916217917|-0.04904487504686469|\n",
            "|-0.01002369114396772|0.032321080571664766| 0.15222689426929537| -0.2142658263671427| 0.16672124730925295|-0.00639333858572...| 0.03615741896921762|-0.06948804721795263| 0.07498845744269828|-0.00194140659032...|0.035972438214299705| 0.16702778296403295|  0.1670317802918333|-0.05314254685012...| 0.26127720541030414| 0.02626790851895858|0.011721537028288006|  0.5279233697443825|                 1.0| 0.18313637201541658|    0.49272451031805|  0.1805658703143846| 0.16826261146320495| 0.17319235305759548|-0.09368062202053197|-0.09375810297853025|-0.06558031097016838| -0.0664508517533397|-0.07237595411094642| -0.0738083589648728|-0.08587081911619361|\n",
            "|-0.00580738639590...|-0.00337393005313...| 0.17537447544298534|0.016945677414380238|-3.75109038245087...|-0.00602224187586...|-0.00371537644199...|-0.00827995141087425|-0.01421779729746...|-0.00490927884683...|-0.00447728424613...|-1.71478368850474...|-1.71471289911722...| 0.00652335094582965|-0.01205420395265...|-0.00649035777285...|-0.00163362562089...|  0.3766072447325206| 0.18313637201541658|                 1.0| 0.34411962238385935|0.020094429913928444|0.022221050836082636|0.015512624013036755|-0.03024032990198...|-0.03250940744510...|-0.03077360119546...|-0.02899262360746327|-0.03163516562105341|-0.03295337316135...|-0.03491022113669...|\n",
            "+--------------------+--------------------+--------------------+--------------------+--------------------+--------------------+--------------------+--------------------+--------------------+--------------------+--------------------+--------------------+--------------------+--------------------+--------------------+--------------------+--------------------+--------------------+--------------------+--------------------+--------------------+--------------------+--------------------+--------------------+--------------------+--------------------+--------------------+--------------------+--------------------+--------------------+--------------------+\n",
            "only showing top 20 rows\n",
            "\n"
          ]
        },
        {
          "output_type": "stream",
          "name": "stderr",
          "text": [
            "<ipython-input-105-4326b3dadc77>:29: UserWarning: FixedFormatter should only be used together with FixedLocator\n",
            "  ax.set_xticklabels(['']+attr)\n",
            "<ipython-input-105-4326b3dadc77>:30: UserWarning: FixedFormatter should only be used together with FixedLocator\n",
            "  ax.set_yticklabels(['']+attr)\n"
          ]
        },
        {
          "output_type": "display_data",
          "data": {
            "text/plain": [
              "<Figure size 640x480 with 2 Axes>"
            ],
            "image/png": "[encoded data removed]"
          },
          "metadata": {}
        }
      ]
    },
    {
      "cell_type": "code",
      "source": [
        "#another method to calculate correlation between some pairs\n",
        "# correlation on some pairs of columns\n",
        "print(\"Correlation between sbytes and dbytes\", sdf.stat.corr('sbytes', 'dbytes'))\n",
        "print(\"Correlation between sloss and dloss\", sdf.stat.corr('sloss', 'dloss'))\n",
        "print(\"Correlation between Sload and Dload\",sdf.stat.corr('Sload', 'Dload'))\n",
        "print(\"Correlation between swin and dwin\",sdf.stat.corr('swin', 'dwin'))\n",
        "print(\"Correlation between swin and dwin\",sdf.stat.corr('sttl', 'dttl'))"
      ],
      "metadata": {
        "trusted": true,
        "colab": {
          "base_uri": "https://localhost:8080/"
        },
        "id": "a4I8anbf1C0f",
        "outputId": "6db218c0-c41c-457e-9eac-b66341392397"
      },
      "execution_count": 106,
      "outputs": [
        {
          "output_type": "stream",
          "name": "stdout",
          "text": [
            "Correlation between sbytes and dbytes 0.006175623880714772\n",
            "Correlation between sloss and dloss 0.0004729198633011057\n",
            "Correlation between Sload and Dload -0.07824427101739859\n",
            "Correlation between swin and dwin 0.9999761743934774\n",
            "Correlation between swin and dwin -0.41285520098285666\n"
          ]
        }
      ]
    },
    {
      "cell_type": "code",
      "source": [
        "\n",
        "\n",
        "\n",
        "#Analytical method 5 : Frequents items\n",
        "\n",
        "\n",
        "\n"
      ],
      "metadata": {
        "trusted": true,
        "id": "2bfoYkBa1C0f"
      },
      "execution_count": null,
      "outputs": []
    },
    {
      "cell_type": "code",
      "source": [
        "#Frequent Items:  the following code finds the frequent items that show up 40% of the time for each column\n",
        "\n",
        "sdf.stat.freqItems(['sbytes','dbytes','dur','sttl','dttl','sloss','dloss','Sload','Dload','Spkts','Dpkts','swin','dwin',\n",
        "                    'smeansz','dmeansz','trans_depth','res_bdy_len','Sjit'], 0.4).collect()[0]"
      ],
      "metadata": {
        "trusted": true,
        "colab": {
          "base_uri": "https://localhost:8080/"
        },
        "id": "hZIZirSA1C0g",
        "outputId": "daef7c4a-6c87-4a37-f184-3803f32dac7e"
      },
      "execution_count": 107,
      "outputs": [
        {
          "output_type": "execute_result",
          "data": {
            "text/plain": [
              "Row(sbytes_freqItems=[114], dbytes_freqItems=[268, 0], dur_freqItems=[1.317284, 2e-06], sttl_freqItems=[254, 62], dttl_freqItems=[252, 0], sloss_freqItems=[2, 0], dloss_freqItems=[1, 0], Sload_freqItems=[228000000.0, 4530.5342], Dload_freqItems=[0.0], Spkts_freqItems=[2, 10], Dpkts_freqItems=[10, 0], swin_freqItems=[255, 0], dwin_freqItems=[255, 0], smeansz_freqItems=[57], dmeansz_freqItems=[45, 0], trans_depth_freqItems=[1, 0], res_bdy_len_freqItems=[0], Sjit_freqItems=[2212.7642, 0.0])"
            ]
          },
          "metadata": {},
          "execution_count": 107
        }
      ]
    },
    {
      "cell_type": "code",
      "source": [
        "#Displaying dataframe\n",
        "display(sdf)"
      ],
      "metadata": {
        "trusted": true,
        "colab": {
          "base_uri": "https://localhost:8080/",
          "height": 86
        },
        "id": "goVC9T4l1C0g",
        "outputId": "d40fe21b-56b5-4b6a-b900-01a493746666"
      },
      "execution_count": 108,
      "outputs": [
        {
          "output_type": "display_data",
          "data": {
            "text/plain": [
              "DataFrame[dsport: int, dur: double, sbytes: int, dbytes: int, sttl: int, dttl: int, sloss: int, dloss: int, service: string, Sload: double, Dload: double, Spkts: int, Dpkts: int, swin: int, dwin: int, stcpb: bigint, dtcpb: bigint, smeansz: int, dmeansz: int, trans_depth: int, res_bdy_len: int, Sjit: double, Djit: double, Sintpkt: double, Dintpkt: double, tcprtt: double, synack: double, ackdat: double, is_sm_ips_ports: int, ct_state_ttl: int, ct_flw_http_mthd: int, is_ftp_login: int, ct_ftp_cmd: int, ct_srv_src: int, ct_srv_dst: int, ct_dst_ltm: int, ct_src_ltm: int, ct_src_dport_ltm: int, ct_dst_sport_ltm: int, ct_dst_src_ltm: int, attack_cat: string, Label: int, xProto: double, xState: double, xSer: double, features: vector]"
            ]
          },
          "metadata": {}
        }
      ]
    },
    {
      "cell_type": "code",
      "source": [
        "\n",
        "\n",
        "\n",
        "#Analytical method 6 : Hypothesis Testing\n",
        "\n",
        "\n"
      ],
      "metadata": {
        "trusted": true,
        "id": "WSe6QFgZ1C0g"
      },
      "execution_count": null,
      "outputs": []
    },
    {
      "cell_type": "code",
      "source": [
        "#For Hypothesis testing we need features column which will be creted after Vectorization\n",
        "\n",
        "#Vectorizing data\n",
        "\n",
        "from pyspark.ml.feature import VectorAssembler\n",
        "colmss = ['sbytes','dbytes','dur','sttl','dttl','sloss','dloss','Sload','Dload','Spkts','Dpkts','swin','dwin','smeansz','dmeansz','trans_depth','res_bdy_len','Sjit',\n",
        "          'Djit','Sintpkt','Dintpkt','tcprtt','synack','ackdat','ct_srv_src','ct_srv_dst','ct_dst_ltm','ct_src_ltm','ct_src_dport_ltm','ct_dst_sport_ltm','ct_dst_src_ltm']\n",
        "feature = VectorAssembler(inputCols= colmss[:],outputCol=\"features\")\n",
        "sdf1 = sdf\n",
        "\n",
        "\n",
        "\n",
        "# Hypothesis testing with chi square test\n",
        "##from pyspark.ml.stat import ChiSquareTest\n",
        "#r = ChiSquareTest.test(sdf1, \"features\", \"Label\").head()\n",
        "#print(\"pValues: \" + str(r.pValues))\n",
        "#print(\"degreesOfFreedom: \" + str(r.degreesOfFreedom))\n",
        "#print(\"statistics: \" + str(r.statistics))\n"
      ],
      "metadata": {
        "trusted": true,
        "id": "qlbgtblt1C0h"
      },
      "execution_count": 110,
      "outputs": []
    },
    {
      "cell_type": "code",
      "source": [
        "sdf1.groupBy(\"features\").count().show()"
      ],
      "metadata": {
        "trusted": true,
        "colab": {
          "base_uri": "https://localhost:8080/"
        },
        "id": "DYxZfSnQ1C0i",
        "outputId": "3ed47908-9f7f-4d0c-e4ea-6b25843371d3"
      },
      "execution_count": 58,
      "outputs": [
        {
          "output_type": "stream",
          "name": "stdout",
          "text": [
            "+--------------------+-----+\n",
            "|            features|count|\n",
            "+--------------------+-----+\n",
            "|[146.0,178.0,0.00...|    1|\n",
            "|[1040.0,3396.0,1....|    1|\n",
            "|[568.0,320.0,0.00...|    1|\n",
            "|[2766.0,27770.0,0...|    1|\n",
            "|[2958.0,32642.0,0...|    1|\n",
            "|[18994.0,1087890....|    1|\n",
            "|[4550.0,69922.0,0...|    1|\n",
            "|[17286.0,354.0,0....|    1|\n",
            "|[512.0,304.0,0.00...|    1|\n",
            "|[2646.0,24330.0,0...|    1|\n",
            "|[8928.0,320.0,0.2...|    1|\n",
            "|[19514.0,1087890....|    1|\n",
            "|[146.0,178.0,0.00...|    1|\n",
            "|[3390.0,41676.0,0...|    1|\n",
            "|[146.0,178.0,0.00...|    1|\n",
            "|(31,[0,2,3,7,9,13...|    7|\n",
            "|[3806.0,53914.0,0...|    1|\n",
            "|[146.0,178.0,0.00...|    1|\n",
            "|[37430.0,3172.0,0...|    1|\n",
            "|[4238.0,65288.0,0...|    1|\n",
            "+--------------------+-----+\n",
            "only showing top 20 rows\n",
            "\n"
          ]
        }
      ]
    },
    {
      "cell_type": "code",
      "source": [
        "\n",
        "#### ----- DATA VISUALIZATION ---- ####\n",
        "\n",
        "# To visualize our data we will use pandas dataframe "
      ],
      "metadata": {
        "trusted": true,
        "id": "v4iS6YnB1C0i"
      },
      "execution_count": null,
      "outputs": []
    },
    {
      "cell_type": "code",
      "source": [
        "#So create sdf1 to pandas dataframe\n",
        "data = sdf\n",
        "data.head()"
      ],
      "metadata": {
        "trusted": true,
        "colab": {
          "base_uri": "https://localhost:8080/"
        },
        "id": "dcZSTleq1C0j",
        "outputId": "ab8b1ef0-b4db-438b-cffe-850a6880112d"
      },
      "execution_count": 91,
      "outputs": [
        {
          "output_type": "execute_result",
          "data": {
            "text/plain": [
              "Row(dsport=179, dur=0.456038, sbytes=550, dbytes=268, sttl=254, dttl=252, sloss=2, dloss=1, service='-', Sload=8683.4873, Dload=3929.4971, Spkts=10, Dpkts=6, swin=255, dwin=255, stcpb=4266331438, dtcpb=1499648008, smeansz=55, dmeansz=45, trans_depth=0, res_bdy_len=0, Sjit=2774.3088, Djit=102.10993, Sintpkt=56.897251, Dintpkt=66.885796, tcprtt=0.162386, synack=0.1216, ackdat=0.040786002, is_sm_ips_ports=0, ct_state_ttl=1, ct_flw_http_mthd=0, is_ftp_login=0, ct_ftp_cmd=0, ct_srv_src=6, ct_srv_dst=7, ct_dst_ltm=1, ct_src_ltm=1, ct_src_dport_ltm=1, ct_dst_sport_ltm=1, ct_dst_src_ltm=6, attack_cat='Fuzzers ', Label=1, xProto=0.0, xState=0.0, xSer=0.0, features=DenseVector([0.0, 0.0, 550.0, 268.0, 0.456, 254.0, 252.0, 2.0, 1.0, 8683.4873, 3929.4971, 10.0, 6.0, 255.0, 255.0, 55.0, 45.0, 0.0, 0.0, 2774.3088, 102.1099, 56.8973, 66.8858, 0.1624, 0.1216, 0.0408, 1.0]))"
            ]
          },
          "metadata": {},
          "execution_count": 91
        }
      ]
    },
    {
      "cell_type": "code",
      "source": [
        "import matplotlib.pyplot as plt\n",
        "\n",
        "fig, ax = plt.subplots()\n",
        "\n",
        "# convert the Spark DataFrame columns to numpy arrays\n",
        "swin = data.select('swin').rdd.flatMap(lambda x: x).collect()\n",
        "dwin = data.select('dwin').rdd.flatMap(lambda x: x).collect()\n",
        "\n",
        "# scatter the swin against the dwin\n",
        "ax.scatter(swin, dwin)\n",
        "# set a title and labels\n",
        "ax.set_title('UNSW-NB scatter Plot')\n",
        "ax.set_xlabel('swin')\n",
        "ax.set_ylabel('dwin')\n",
        "ax.legend()\n",
        "plt.show()\n"
      ],
      "metadata": {
        "trusted": true,
        "colab": {
          "base_uri": "https://localhost:8080/",
          "height": 489
        },
        "id": "-qkM1b9p1C0j",
        "outputId": "e0fd7dd1-2f62-4b9b-e01b-03386098129b"
      },
      "execution_count": 113,
      "outputs": [
        {
          "output_type": "stream",
          "name": "stderr",
          "text": [
            "WARNING:matplotlib.legend:No artists with labels found to put in legend.  Note that artists whose label start with an underscore are ignored when legend() is called with no argument.\n"
          ]
        },
        {
          "output_type": "display_data",
          "data": {
            "text/plain": [
              "<Figure size 640x480 with 1 Axes>"
            ],
            "image/png": "[encoded data removed]"
          },
          "metadata": {}
        }
      ]
    },
    {
      "cell_type": "code",
      "source": [
        "\n",
        "#Line chart on some columns\n"
      ],
      "metadata": {
        "trusted": true,
        "id": "RQjxUZnA1C0j"
      },
      "execution_count": null,
      "outputs": []
    },
    {
      "cell_type": "code",
      "source": [
        "columns = ['sbytes','dbytes','sttl','dttl','sloss','dloss','Sload','Dload','Spkts','Dpkts','swin','dwin','smeansz','dmeansz','trans_depth']\n",
        "\n",
        "# create x data\n",
        "x_data = range(0, data.count())\n",
        "\n",
        "# create figure and axis\n",
        "fig, ax = plt.subplots()\n",
        "\n",
        "# plot each column\n",
        "for column in columns:\n",
        "    ax.plot(x_data, data.select(column).toPandas(), label=column)\n",
        "\n",
        "# set title and legend\n",
        "ax.set_title('UNSW-NB 15')\n",
        "ax.legend()\n"
      ],
      "metadata": {
        "trusted": true,
        "colab": {
          "base_uri": "https://localhost:8080/",
          "height": 469
        },
        "id": "nvElSlY-1C0k",
        "outputId": "8b5ca838-b5bc-40ec-d1b8-98f7117d56fe"
      },
      "execution_count": 114,
      "outputs": [
        {
          "output_type": "execute_result",
          "data": {
            "text/plain": [
              "<matplotlib.legend.Legend at 0x7fde257dcbe0>"
            ]
          },
          "metadata": {},
          "execution_count": 114
        },
        {
          "output_type": "display_data",
          "data": {
            "text/plain": [
              "<Figure size 640x480 with 1 Axes>"
            ],
            "image/png": "[encoded data removed]"
          },
          "metadata": {}
        }
      ]
    },
    {
      "cell_type": "code",
      "source": [
        "import matplotlib.pyplot as plt\n",
        "import pandas as pd\n",
        "\n",
        "# convert PySpark DataFrame to Pandas DataFrame\n",
        "pdf = data.toPandas()\n",
        "\n",
        "# define columns to plot\n",
        "columns = ['sbytes', 'dbytes', 'dur', 'ct_src_ltm', 'ct_src_dport_ltm', 'ct_dst_sport_ltm', 'ct_dst_src_ltm']\n",
        "\n",
        "# create x data\n",
        "x_data = range(0, len(pdf))\n",
        "\n",
        "# create figure and axis\n",
        "fig, ax = plt.subplots()\n",
        "\n",
        "# plot each column\n",
        "for column in columns:\n",
        "    ax.plot(x_data, pdf[column], label=column)\n",
        "\n",
        "# set title and legend\n",
        "ax.set_title('UNSW-NB 15')\n",
        "ax.legend()\n"
      ],
      "metadata": {
        "trusted": true,
        "colab": {
          "base_uri": "https://localhost:8080/",
          "height": 469
        },
        "id": "CIhy_YuV1C0k",
        "outputId": "6d005c10-df97-46f4-a11e-960318bdd194"
      },
      "execution_count": 117,
      "outputs": [
        {
          "output_type": "execute_result",
          "data": {
            "text/plain": [
              "<matplotlib.legend.Legend at 0x7fde2584a680>"
            ]
          },
          "metadata": {},
          "execution_count": 117
        },
        {
          "output_type": "display_data",
          "data": {
            "text/plain": [
              "<Figure size 640x480 with 1 Axes>"
            ],
            "image/png": "[encoded data removed]"
          },
          "metadata": {}
        }
      ]
    },
    {
      "cell_type": "code",
      "source": [
        "import matplotlib.pyplot as plt\n",
        "\n",
        "# convert PySpark DataFrame column to Pandas DataFrame\n",
        "attack_cat_pd = data.select('attack_cat').toPandas()\n",
        "\n",
        "# create figure and axis\n",
        "fig, ax = plt.subplots()\n",
        "\n",
        "# plot histogram\n",
        "ax.hist(attack_cat_pd['attack_cat'])\n",
        "\n",
        "# set title and labels\n",
        "ax.set_title('attack_cat')\n",
        "ax.set_xlabel('value')\n",
        "ax.set_ylabel('Frequency')\n"
      ],
      "metadata": {
        "trusted": true,
        "colab": {
          "base_uri": "https://localhost:8080/",
          "height": 489
        },
        "id": "MqExgDdq1C0l",
        "outputId": "5da88f24-3ce2-459c-f328-149b39550fc4"
      },
      "execution_count": 119,
      "outputs": [
        {
          "output_type": "execute_result",
          "data": {
            "text/plain": [
              "Text(0, 0.5, 'Frequency')"
            ]
          },
          "metadata": {},
          "execution_count": 119
        },
        {
          "output_type": "display_data",
          "data": {
            "text/plain": [
              "<Figure size 640x480 with 1 Axes>"
            ],
            "image/png": "[encoded data removed]"
          },
          "metadata": {}
        }
      ]
    },
    {
      "cell_type": "code",
      "source": [
        "# create a figure and axis\n",
        "fig, ax = plt.subplots()\n",
        "\n",
        "# count the occurrence of each value and sort by count\n",
        "value_counts = data.groupBy(column).count().orderBy('count', ascending=False).collect()\n",
        "\n",
        "# get x and y data\n",
        "points = [x[column] for x in value_counts]\n",
        "frequency = [x['count'] for x in value_counts]\n",
        "\n",
        "# create bar chart\n",
        "ax.bar(points, frequency)\n",
        "\n",
        "# set title and labels\n",
        "ax.set_title('UNSW ' + column)\n",
        "ax.set_xlabel('Points')\n",
        "ax.set_ylabel('Frequency')\n",
        "plt.show()\n"
      ],
      "metadata": {
        "trusted": true,
        "colab": {
          "base_uri": "https://localhost:8080/",
          "height": 471
        },
        "id": "58TsKArd1C0m",
        "outputId": "a39e3a02-bed6-4188-e93b-0c63ce84d81f"
      },
      "execution_count": 122,
      "outputs": [
        {
          "output_type": "display_data",
          "data": {
            "text/plain": [
              "<Figure size 640x480 with 1 Axes>"
            ],
            "image/png": "[encoded data removed]"
          },
          "metadata": {}
        }
      ]
    },
    {
      "cell_type": "code",
      "source": [
        "\n",
        "\n",
        "\n",
        "# Now that the data is all set, let's split it into training and test. I'll be using 80% of it.\n",
        "\n",
        "\n",
        "\n"
      ],
      "metadata": {
        "trusted": true,
        "id": "IeBgCDPW1C0n"
      },
      "execution_count": null,
      "outputs": []
    },
    {
      "cell_type": "code",
      "source": [
        "(trainingData, testData) = sdf1.randomSplit([0.8, 0.2],seed = 11)"
      ],
      "metadata": {
        "trusted": true,
        "id": "x_2PtaEi1C0n"
      },
      "execution_count": 60,
      "outputs": []
    },
    {
      "cell_type": "code",
      "source": [
        "trainingData.show(5)"
      ],
      "metadata": {
        "trusted": true,
        "colab": {
          "base_uri": "https://localhost:8080/"
        },
        "id": "9rPhSmDM1C0n",
        "outputId": "570303fc-f982-434d-8bc7-c0f93db0e62a"
      },
      "execution_count": 61,
      "outputs": [
        {
          "output_type": "stream",
          "name": "stdout",
          "text": [
            "+------+---+------+------+----+----+-----+-----+-------+-----+-----+-----+-----+----+----+-----+-----+-------+-------+-----------+-----------+----+----+-------+-------+------+------+------+---------------+------------+----------------+------------+----------+----------+----------+----------+----------+----------------+----------------+--------------+----------+-----+------+------+----+--------------------+\n",
            "|dsport|dur|sbytes|dbytes|sttl|dttl|sloss|dloss|service|Sload|Dload|Spkts|Dpkts|swin|dwin|stcpb|dtcpb|smeansz|dmeansz|trans_depth|res_bdy_len|Sjit|Djit|Sintpkt|Dintpkt|tcprtt|synack|ackdat|is_sm_ips_ports|ct_state_ttl|ct_flw_http_mthd|is_ftp_login|ct_ftp_cmd|ct_srv_src|ct_srv_dst|ct_dst_ltm|ct_src_ltm|ct_src_dport_ltm|ct_dst_sport_ltm|ct_dst_src_ltm|attack_cat|Label|xProto|xState|xSer|            features|\n",
            "+------+---+------+------+----+----+-----+-----+-------+-----+-----+-----+-----+----+----+-----+-----+-------+-------+-----------+-----------+----+----+-------+-------+------+------+------+---------------+------------+----------------+------------+----------+----------+----------+----------+----------+----------------+----------------+--------------+----------+-----+------+------+----+--------------------+\n",
            "|     0|0.0|    24|     0| 254|   0|    0|    0|      -|  0.0|  0.0|    1|    0|   0|   0|    0|    0|     24|      0|          0|          0| 0.0| 0.0|    0.0|    0.0|   0.0|   0.0|   0.0|              0|           2|               0|           0|         0|         2|         2|         2|         2|               1|               1|             2|   Fuzzers|    1|   1.0|   2.0| 0.0|(31,[0,3,9,13,24,...|\n",
            "|     0|0.0|    24|     0| 254|   0|    0|    0|      -|  0.0|  0.0|    1|    0|   0|   0|    0|    0|     24|      0|          0|          0| 0.0| 0.0|    0.0|    0.0|   0.0|   0.0|   0.0|              0|           2|               0|           0|         0|         4|         2|         2|         3|               1|               1|             2|  Exploits|    1|   1.0|   2.0| 0.0|(31,[0,3,9,13,24,...|\n",
            "|     0|0.0|    28|     0| 254|   0|    0|    0|      -|  0.0|  0.0|    1|    0|   0|   0|    0|    0|     28|      0|          0|          0| 0.0| 0.0|    0.0|    0.0|   0.0|   0.0|   0.0|              0|           0|               0|           0|         0|         2|         2|         2|         2|               2|               1|             2|      null|    0|  15.0|  14.0| 0.0|(31,[0,3,9,13,24,...|\n",
            "|     0|0.0|    46|     0|   0|   0|    0|    0|      -|  0.0|  0.0|    1|    0|   0|   0|    0|    0|     46|      0|          0|          0| 0.0| 0.0|    0.0|    0.0|   0.0|   0.0|   0.0|              1|           2|               0|           0|         0|         1|         1|         1|         1|               1|               1|             1|      null|    0|   3.0|   2.0| 0.0|(31,[0,9,13,24,25...|\n",
            "|     0|0.0|    46|     0|   0|   0|    0|    0|      -|  0.0|  0.0|    1|    0|   0|   0|    0|    0|     46|      0|          0|          0| 0.0| 0.0|    0.0|    0.0|   0.0|   0.0|   0.0|              1|           2|               0|           0|         0|         2|         2|         2|         2|               2|               2|             2|      null|    0|   3.0|   2.0| 0.0|(31,[0,9,13,24,25...|\n",
            "+------+---+------+------+----+----+-----+-----+-------+-----+-----+-----+-----+----+----+-----+-----+-------+-------+-----------+-----------+----+----+-------+-------+------+------+------+---------------+------------+----------------+------------+----------+----------+----------+----------+----------+----------------+----------------+--------------+----------+-----+------+------+----+--------------------+\n",
            "only showing top 5 rows\n",
            "\n"
          ]
        }
      ]
    },
    {
      "cell_type": "code",
      "source": [
        "testData.show()"
      ],
      "metadata": {
        "trusted": true,
        "colab": {
          "base_uri": "https://localhost:8080/"
        },
        "id": "ZNgclaDv1C0o",
        "outputId": "3e7d1fe4-f6cf-48ce-f7c1-d815734e87be"
      },
      "execution_count": 62,
      "outputs": [
        {
          "output_type": "stream",
          "name": "stdout",
          "text": [
            "+------+---+------+------+----+----+-----+-----+-------+-----+-----+-----+-----+----+----+-----+-----+-------+-------+-----------+-----------+---------+----+---------+-------+------+------+------+---------------+------------+----------------+------------+----------+----------+----------+----------+----------+----------------+----------------+--------------+----------+-----+------+------+----+--------------------+\n",
            "|dsport|dur|sbytes|dbytes|sttl|dttl|sloss|dloss|service|Sload|Dload|Spkts|Dpkts|swin|dwin|stcpb|dtcpb|smeansz|dmeansz|trans_depth|res_bdy_len|     Sjit|Djit|  Sintpkt|Dintpkt|tcprtt|synack|ackdat|is_sm_ips_ports|ct_state_ttl|ct_flw_http_mthd|is_ftp_login|ct_ftp_cmd|ct_srv_src|ct_srv_dst|ct_dst_ltm|ct_src_ltm|ct_src_dport_ltm|ct_dst_sport_ltm|ct_dst_src_ltm|attack_cat|Label|xProto|xState|xSer|            features|\n",
            "+------+---+------+------+----+----+-----+-----+-------+-----+-----+-----+-----+----+----+-----+-----+-------+-------+-----------+-----------+---------+----+---------+-------+------+------+------+---------------+------------+----------------+------------+----------+----------+----------+----------+----------+----------------+----------------+--------------+----------+-----+------+------+----+--------------------+\n",
            "|     0|0.0|    46|     0|   0|   0|    0|    0|      -|  0.0|  0.0|    1|    0|   0|   0|    0|    0|     46|      0|          0|          0|      0.0| 0.0|60000.047|    0.0|   0.0|   0.0|   0.0|              1|           2|               0|           0|         0|         1|         1|         1|         1|               1|               1|             1|      null|    0|   3.0|   2.0| 0.0|(31,[0,9,13,19,24...|\n",
            "|     0|0.0|    46|     0|   0|   0|    0|    0|      -|  0.0|  0.0|    1|    0|   0|   0|    0|    0|     46|      0|          0|          0|      0.0| 0.0|60000.051|    0.0|   0.0|   0.0|   0.0|              1|           2|               0|           0|         0|         1|         1|         1|         1|               1|               1|             1|      null|    0|   3.0|   2.0| 0.0|(31,[0,9,13,19,24...|\n",
            "|     0|0.0|    46|     0|   0|   0|    0|    0|      -|  0.0|  0.0|    1|    0|   0|   0|    0|    0|     46|      0|          0|          0|      0.0| 0.0|60000.484|    0.0|   0.0|   0.0|   0.0|              1|           2|               0|           0|         0|         2|         2|         2|         2|               2|               2|             2|      null|    0|   3.0|   2.0| 0.0|(31,[0,9,13,19,24...|\n",
            "|     0|0.0|    46|     0|   0|   0|    0|    0|      -|  0.0|  0.0|    1|    0|   0|   0|    0|    0|     46|      0|          0|          0|      0.0| 0.0|  60000.5|    0.0|   0.0|   0.0|   0.0|              1|           2|               0|           0|         0|         1|         1|         1|         1|               1|               1|             1|      null|    0|   3.0|   2.0| 0.0|(31,[0,9,13,19,24...|\n",
            "|     0|0.0|    46|     0|   0|   0|    0|    0|      -|  0.0|  0.0|    1|    0|   0|   0|    0|    0|     46|      0|          0|          0|      0.0| 0.0|60000.504|    0.0|   0.0|   0.0|   0.0|              1|           2|               0|           0|         0|         1|         1|         1|         1|               1|               1|             1|      null|    0|   3.0|   2.0| 0.0|(31,[0,9,13,19,24...|\n",
            "|     0|0.0|    46|     0|   0|   0|    0|    0|      -|  0.0|  0.0|    1|    0|   0|   0|    0|    0|     46|      0|          0|          0|      0.0| 0.0|60000.527|    0.0|   0.0|   0.0|   0.0|              1|           2|               0|           0|         0|         2|         2|         2|         2|               2|               2|             2|      null|    0|   3.0|   2.0| 0.0|(31,[0,9,13,19,24...|\n",
            "|     0|0.0|    46|     0|   0|   0|    0|    0|      -|  0.0|  0.0|    1|    0|   0|   0|    0|    0|     46|      0|          0|          0|      0.0| 0.0|60000.531|    0.0|   0.0|   0.0|   0.0|              1|           2|               0|           0|         0|         1|         1|         1|         1|               1|               1|             1|      null|    0|   3.0|   2.0| 0.0|(31,[0,9,13,19,24...|\n",
            "|     0|0.0|    46|     0|   0|   0|    0|    0|      -|  0.0|  0.0|    1|    0|   0|   0|    0|    0|     46|      0|          0|          0|      0.0| 0.0|60000.578|    0.0|   0.0|   0.0|   0.0|              1|           2|               0|           0|         0|         2|         2|         2|         2|               2|               2|             2|      null|    0|   3.0|   2.0| 0.0|(31,[0,9,13,19,24...|\n",
            "|     0|0.0|    46|     0|   0|   0|    0|    0|      -|  0.0|  0.0|    1|    0|   0|   0|    0|    0|     46|      0|          0|          0|      0.0| 0.0|60000.625|    0.0|   0.0|   0.0|   0.0|              1|           2|               0|           0|         0|         2|         2|         2|         2|               2|               2|             2|      null|    0|   3.0|   2.0| 0.0|(31,[0,9,13,19,24...|\n",
            "|     0|0.0|    46|     0|   0|   0|    0|    0|      -|  0.0|  0.0|    1|    0|   0|   0|    0|    0|     46|      0|          0|          0|      0.0| 0.0|60000.656|    0.0|   0.0|   0.0|   0.0|              1|           2|               0|           0|         0|         2|         2|         2|         2|               2|               2|             2|      null|    0|   3.0|   2.0| 0.0|(31,[0,9,13,19,24...|\n",
            "|     0|0.0|    46|     0|   0|   0|    0|    0|      -|  0.0|  0.0|    1|    0|   0|   0|    0|    0|     46|      0|          0|          0|      0.0| 0.0|60000.684|    0.0|   0.0|   0.0|   0.0|              1|           2|               0|           0|         0|         1|         1|         1|         1|               1|               1|             1|      null|    0|   3.0|   2.0| 0.0|(31,[0,9,13,19,24...|\n",
            "|     0|0.0|    46|     0|   0|   0|    0|    0|      -|  0.0|  0.0|    1|    0|   0|   0|    0|    0|     46|      0|          0|          0|      0.0| 0.0|60000.711|    0.0|   0.0|   0.0|   0.0|              1|           2|               0|           0|         0|         5|         5|         1|         1|               1|               1|             5|      null|    0|   3.0|   2.0| 0.0|(31,[0,9,13,19,24...|\n",
            "|     0|0.0|    46|     0|   0|   0|    0|    0|      -|  0.0|  0.0|    1|    0|   0|   0|    0|    0|     46|      0|          0|          0|      0.0| 0.0|60000.727|    0.0|   0.0|   0.0|   0.0|              1|           2|               0|           0|         0|         5|         7|         1|         1|               1|               1|             5|      null|    0|   3.0|   2.0| 0.0|(31,[0,9,13,19,24...|\n",
            "|     0|0.0|    46|     0|   0|   0|    0|    0|      -|  0.0|  0.0|    1|    0|   0|   0|    0|    0|     46|      0|          0|          0|      0.0| 0.0|60000.785|    0.0|   0.0|   0.0|   0.0|              1|           2|               0|           0|         0|         2|         2|         2|         2|               2|               2|             2|      null|    0|   3.0|   2.0| 0.0|(31,[0,9,13,19,24...|\n",
            "|     0|0.0|    46|     0|   0|   0|    0|    0|      -|  0.0|  0.0|    1|    0|   0|   0|    0|    0|     46|      0|          0|          0|      0.0| 0.0|60000.793|    0.0|   0.0|   0.0|   0.0|              1|           2|               0|           0|         0|         2|         2|         2|         2|               2|               2|             2|      null|    0|   3.0|   2.0| 0.0|(31,[0,9,13,19,24...|\n",
            "|     0|0.0|    46|     0|   0|   0|    0|    0|      -|  0.0|  0.0|    1|    0|   0|   0|    0|    0|     46|      0|          0|          0|10.954459| 0.0|60000.078|    0.0|   0.0|   0.0|   0.0|              1|           2|               0|           0|         0|         1|         1|         1|         1|               1|               1|             1|      null|    0|   3.0|   2.0| 0.0|(31,[0,9,13,17,19...|\n",
            "|     0|0.0|    46|     0|   0|   0|    0|    0|      -|  0.0|  0.0|    1|    0|   0|   0|    0|    0|     46|      0|          0|          0|10.954498| 0.0|60000.512|    0.0|   0.0|   0.0|   0.0|              1|           2|               0|           0|         0|         1|         1|         1|         1|               1|               1|             1|      null|    0|   3.0|   2.0| 0.0|(31,[0,9,13,17,19...|\n",
            "|     0|0.0|    46|     0|   0|   0|    0|    0|      -|  0.0|  0.0|    1|    0|   0|   0|    0|    0|     46|      0|          0|          0|10.954505| 0.0| 60000.59|    0.0|   0.0|   0.0|   0.0|              1|           2|               0|           0|         0|         2|         2|         2|         2|               2|               2|             2|      null|    0|   3.0|   2.0| 0.0|(31,[0,9,13,17,19...|\n",
            "|     0|0.0|    46|     0|   0|   0|    0|    0|      -|  0.0|  0.0|    1|    0|   0|   0|    0|    0|     46|      0|          0|          0|10.954508| 0.0|60000.617|    0.0|   0.0|   0.0|   0.0|              1|           2|               0|           0|         0|         2|         2|         2|         2|               2|               2|             2|      null|    0|   3.0|   2.0| 0.0|(31,[0,9,13,17,19...|\n",
            "|     0|0.0|    46|     0|   0|   0|    0|    0|      -|  0.0|  0.0|    1|    0|   0|   0|    0|    0|     46|      0|          0|          0|10.954515| 0.0|60000.699|    0.0|   0.0|   0.0|   0.0|              1|           2|               0|           0|         0|         2|         1|         1|         2|               2|               1|             1|      null|    0|   3.0|   2.0| 0.0|(31,[0,9,13,17,19...|\n",
            "+------+---+------+------+----+----+-----+-----+-------+-----+-----+-----+-----+----+----+-----+-----+-------+-------+-----------+-----------+---------+----+---------+-------+------+------+------+---------------+------------+----------------+------------+----------+----------+----------+----------+----------+----------------+----------------+--------------+----------+-----+------+------+----+--------------------+\n",
            "only showing top 20 rows\n",
            "\n"
          ]
        }
      ]
    },
    {
      "cell_type": "code",
      "source": [
        "\n",
        "#Counting toatal no of rows in training and testing data\n",
        "\n",
        "print(\"Training Dataset Count: \" + str(trainingData.count()))\n",
        "print(\"Test Dataset Count: \" + str(testData.count()))"
      ],
      "metadata": {
        "trusted": true,
        "id": "Iwzx4xGH1C0o"
      },
      "execution_count": null,
      "outputs": []
    },
    {
      "cell_type": "code",
      "source": [
        "trainingData.columns"
      ],
      "metadata": {
        "trusted": true,
        "id": "NSpuWTb71C0p"
      },
      "execution_count": null,
      "outputs": []
    },
    {
      "cell_type": "code",
      "source": [
        "#Arranging all the columns \n",
        "#Arranging all the columns with craeting a new dataframe of teaining and test data\n",
        "\n",
        "\n",
        "data1 = trainingData.select('xProto','xState','xSer','dur','sbytes','dbytes','sttl','dttl','sloss','dloss','service','Sload',\n",
        "                    'Dload','Spkts','Dpkts','swin','dwin','smeansz','dmeansz','trans_depth','res_bdy_len','Sjit','Djit',\n",
        "                    'Sintpkt','Dintpkt','tcprtt','synack','ackdat','is_sm_ips_ports','ct_state_ttl','ct_flw_http_mthd','is_ftp_login',\n",
        "                    'ct_ftp_cmd','ct_srv_src','ct_srv_dst','ct_dst_ltm','ct_src_ltm','ct_src_dport_ltm','ct_dst_sport_ltm','ct_dst_src_ltm',\n",
        "                    'attack_cat','features','Label')\n",
        "data2 = testData.select('xProto','xState','xSer','dur','sbytes','dbytes','sttl','dttl','sloss','dloss','service','Sload',\n",
        "                    'Dload','Spkts','Dpkts','swin','dwin','smeansz','dmeansz','trans_depth','res_bdy_len','Sjit','Djit',\n",
        "                    'Sintpkt','Dintpkt','tcprtt','synack','ackdat','is_sm_ips_ports','ct_state_ttl','ct_flw_http_mthd','is_ftp_login',\n",
        "                    'ct_ftp_cmd','ct_srv_src','ct_srv_dst','ct_dst_ltm','ct_src_ltm','ct_src_dport_ltm','ct_dst_sport_ltm','ct_dst_src_ltm',\n",
        "                    'attack_cat','features','Label')"
      ],
      "metadata": {
        "trusted": true,
        "id": "WxDWjDl81C0p"
      },
      "execution_count": 67,
      "outputs": []
    },
    {
      "cell_type": "code",
      "source": [
        "\n",
        "\n",
        "\n",
        "###### ------ Binary Classification ------ ######\n",
        "\n",
        "##### ------- Linear SVM ------- #######\n",
        "\n"
      ],
      "metadata": {
        "trusted": true,
        "id": "Yfj9oxTR1C0p"
      },
      "execution_count": null,
      "outputs": []
    },
    {
      "cell_type": "code",
      "source": [
        "#Linear SVC\n",
        "\n",
        "from pyspark.ml.classification import LinearSVC\n",
        "\n",
        "svm = LinearSVC(labelCol=\"Label\", featuresCol=\"features\")\n",
        "\n",
        "#fitting training data data1\n",
        "svm_model = svm.fit(data1)\n",
        "\n",
        "#Transforming test data data2 by fitted model \n",
        "svm_prediction = svm_model.transform(data2)\n",
        "\n",
        "#showing predicted model\n",
        "svm_prediction.select(\"prediction\", \"Label\", \"features\").show()\n",
        "\n",
        "\n",
        "#Evaluating predicted model using BinaryClassificationEvaluator\n",
        "from pyspark.ml.evaluation import BinaryClassificationEvaluator\n",
        "evaluator = BinaryClassificationEvaluator(labelCol=\"Label\", rawPredictionCol=\"rawPrediction\", metricName=\"areaUnderROC\")\n",
        "\n",
        "\n",
        "#Accuracy of our model\n",
        "svm_accuracy = evaluator.evaluate(svm_prediction)\n",
        "print(\"Accuracy of Support Vector Machine is = %g\"% (svm_accuracy))\n",
        "print(\"Test Error of Support Vector Machine = %g \" % (1.0 - svm_accuracy))\n"
      ],
      "metadata": {
        "trusted": true,
        "colab": {
          "base_uri": "https://localhost:8080/"
        },
        "id": "9ZvEYBZ51C0q",
        "outputId": "b2fb307d-28c3-41dd-9e31-be7a095e0f02"
      },
      "execution_count": 68,
      "outputs": [
        {
          "output_type": "stream",
          "name": "stdout",
          "text": [
            "+----------+-----+--------------------+\n",
            "|prediction|Label|            features|\n",
            "+----------+-----+--------------------+\n",
            "|       0.0|    0|(31,[0,9,13,19,24...|\n",
            "|       0.0|    0|(31,[0,9,13,19,24...|\n",
            "|       0.0|    0|(31,[0,9,13,19,24...|\n",
            "|       0.0|    0|(31,[0,9,13,19,24...|\n",
            "|       0.0|    0|(31,[0,9,13,19,24...|\n",
            "|       0.0|    0|(31,[0,9,13,19,24...|\n",
            "|       0.0|    0|(31,[0,9,13,19,24...|\n",
            "|       0.0|    0|(31,[0,9,13,19,24...|\n",
            "|       0.0|    0|(31,[0,9,13,19,24...|\n",
            "|       0.0|    0|(31,[0,9,13,19,24...|\n",
            "|       0.0|    0|(31,[0,9,13,19,24...|\n",
            "|       0.0|    0|(31,[0,9,13,19,24...|\n",
            "|       0.0|    0|(31,[0,9,13,19,24...|\n",
            "|       0.0|    0|(31,[0,9,13,19,24...|\n",
            "|       0.0|    0|(31,[0,9,13,19,24...|\n",
            "|       0.0|    0|(31,[0,9,13,17,19...|\n",
            "|       0.0|    0|(31,[0,9,13,17,19...|\n",
            "|       0.0|    0|(31,[0,9,13,17,19...|\n",
            "|       0.0|    0|(31,[0,9,13,17,19...|\n",
            "|       0.0|    0|(31,[0,9,13,17,19...|\n",
            "+----------+-----+--------------------+\n",
            "only showing top 20 rows\n",
            "\n",
            "Accuracy of Support Vector Machine is = 0.988252\n",
            "Test Error of Support Vector Machine = 0.0117476 \n"
          ]
        }
      ]
    },
    {
      "cell_type": "code",
      "source": [
        "#Plotting Actual and predicted output of Label column\n",
        "\n",
        "%matplotlib inline\n",
        "import numpy as np\n",
        "import matplotlib.pyplot as plt\n",
        "\n",
        "\n",
        "#Converting dataframe into pandas dataframe\n",
        "sbdf = svm_prediction.select('prediction','Label').toPandas()\n",
        "\n",
        "# PLOT \n",
        "ax = sbdf.plot(kind='scatter', figsize = (6,6), x='prediction', y='Label', color='blue', alpha = 0.25, label='Actual vs. predicted')\n",
        "fit = np.polyfit(sbdf['prediction'], sbdf['Label'], deg=1)\n",
        "ax.set_title('Actual vs. Predicted Attck Record')\n",
        "ax.set_xlabel(\"Actual\")\n",
        "ax.set_ylabel(\"Predicted\")\n",
        "ax.legend()\n",
        "ax.plot(sbdf['prediction'], fit[0] * sbdf['prediction'] + fit[1], color='magenta')\n",
        "plt.axis([-1, 20, -1, 20])\n",
        "plt.show(ax)"
      ],
      "metadata": {
        "trusted": true,
        "colab": {
          "base_uri": "https://localhost:8080/",
          "height": 564
        },
        "id": "uQQ2ENVI1C0q",
        "outputId": "68a817a7-f9d3-4388-fb3a-f14085bc5dfe"
      },
      "execution_count": 70,
      "outputs": [
        {
          "output_type": "display_data",
          "data": {
            "text/plain": [
              "<Figure size 600x600 with 1 Axes>"
            ],
            "image/png": "[encoded data removed]"
          },
          "metadata": {}
        }
      ]
    },
    {
      "cell_type": "code",
      "source": [
        "#Confusion matrix \n",
        "\n",
        "\n",
        "tp = float(svm_prediction.filter(\"prediction == 1.0 AND Label == 1\").count())\n",
        "fp = float(svm_prediction.filter(\"prediction == 1.0 AND Label == 0\").count())\n",
        "tn = float(svm_prediction.filter(\"prediction == 0.0 AND Label == 0\").count())\n",
        "fn = float(svm_prediction.filter(\"prediction == 0.0 AND Label == 1\").count())\n",
        "pr = tp / (tp + fp)\n",
        "re = tp / (tp + fn)\n",
        "\n",
        "\n",
        "print( tp, \"     \", fp)\n",
        "print( fn, \"     \", tn)\n",
        "print('\\n')\n",
        "metrics = sparkSession.createDataFrame([\n",
        " (\"TP\", tp),\n",
        " (\"FP\", fp),\n",
        " (\"TN\", tn),\n",
        " (\"FN\", fn),\n",
        " (\"Precision\", pr),\n",
        " (\"Recall\", re),\n",
        " (\"F1\", 2*pr*re/(re+pr))],[\"metric\", \"value\"])\n",
        "metrics.show()"
      ],
      "metadata": {
        "trusted": true,
        "colab": {
          "base_uri": "https://localhost:8080/"
        },
        "id": "BgIR_9YG1C0q",
        "outputId": "60466615-4c58-497a-f3e2-c15a48e8012c"
      },
      "execution_count": 71,
      "outputs": [
        {
          "output_type": "stream",
          "name": "stdout",
          "text": [
            "15532.0       4933.0\n",
            "2127.0       383405.0\n",
            "\n",
            "\n",
            "+---------+------------------+\n",
            "|   metric|             value|\n",
            "+---------+------------------+\n",
            "|       TP|           15532.0|\n",
            "|       FP|            4933.0|\n",
            "|       TN|          383405.0|\n",
            "|       FN|            2127.0|\n",
            "|Precision|0.7589543122404104|\n",
            "|   Recall|0.8795515034826434|\n",
            "|       F1|0.8148148148148149|\n",
            "+---------+------------------+\n",
            "\n"
          ]
        }
      ]
    },
    {
      "cell_type": "code",
      "source": [
        "\n",
        "\n",
        "\n",
        "##### ------   Multi Class Classification   ------ ######\n",
        "\n",
        "##### ------   Decision Tree Classifier  ------- ######\n",
        "\n",
        "\n",
        "\n"
      ],
      "metadata": {
        "trusted": true,
        "id": "YVQ4KT1B1C0r"
      },
      "execution_count": null,
      "outputs": []
    },
    {
      "cell_type": "code",
      "source": [
        "#Before applying Decision Tree Classifier on our data set we will do the following work on our data set:\n",
        "\n",
        "#Vectorizing columns\n",
        "\n",
        "from pyspark.ml.feature import VectorAssembler\n",
        "colmss = ['xState','xSer','sbytes','dbytes','dur','sttl','dttl','sloss','dloss','Sload','Dload','Spkts','Dpkts','swin','dwin','smeansz','dmeansz','trans_depth','res_bdy_len','Sjit',\n",
        "          'Djit','Sintpkt','Dintpkt','tcprtt','synack','ackdat','Label']\n",
        "feature = VectorAssembler(inputCols= colmss[:],outputCol=\"features\")\n",
        "sdf1 = feature.transform(sdf)"
      ],
      "metadata": {
        "trusted": true,
        "id": "6lTYw93R1C0r"
      },
      "execution_count": 72,
      "outputs": []
    },
    {
      "cell_type": "code",
      "source": [
        "from pyspark.sql.functions import col\n",
        "from pyspark.ml.feature import VectorAssembler\n",
        "from pyspark.ml.classification import DecisionTreeClassifier\n",
        "from pyspark.ml.feature import StringIndexer, VectorIndexer\n",
        "from pyspark.ml.evaluation import MulticlassClassificationEvaluator\n",
        "from pyspark.ml import Pipeline\n",
        "\n",
        "# Drop rows with null values\n",
        "sdf = sdf.na.drop()\n",
        "# Load the data\n",
        "#sdf = sdf\n",
        "# Count the number of connections by protocol\n",
        "protocol_counts = sdf.groupBy(\"xProto\").count().sort(col(\"count\").desc()).toPandas()\n",
        "\n",
        "# Create a bar plot of the protocol counts\n",
        "import matplotlib.pyplot as plt\n",
        "plt.bar(protocol_counts[\"xProto\"], protocol_counts[\"count\"])\n",
        "plt.xlabel(\"Protocol\")\n",
        "plt.ylabel(\"Count\")\n",
        "plt.title(\"Number of Connections by Protocol\")\n",
        "plt.show()\n",
        "\n",
        "# Vectorize the data\n",
        "#features = ['sbytes', 'dbytes', 'dur', 'sttl', 'dttl', 'sloss', 'dloss', 'Sload', 'Dload', 'Spkts', 'Dpkts', 'swin', 'dwin', 'smeansz', 'dmeansz', 'trans_depth', 'res_bdy_len', 'Sjit', 'Djit', 'Sintpkt', 'Dintpkt', 'tcprtt', 'synack', 'ackdat', 'ct_srv_src', 'ct_srv_dst', 'ct_dst_ltm', 'ct_src_ltm', 'ct_src_dport_ltm', 'ct_dst_sport_ltm', 'ct_dst_src_ltm']\n",
        "#assembler = VectorAssembler(inputCols=features, outputCol=\"features\")\n",
        "vectorized_sdf = sdf\n",
        "\n",
        "# Index labels, adding metadata to the label column.\n",
        "# Fit on whole dataset to include all labels in index.\n",
        "label_indexer = StringIndexer(inputCol=\"attack_cat\", outputCol=\"indexedLabel\").fit(vectorized_sdf)\n",
        "\n",
        "# Automatically identify categorical features, and index them.\n",
        "# We specify maxCategories so features with > 15 distinct values are treated as continuous.\n",
        "feature_indexer = VectorIndexer(inputCol=\"features\", outputCol=\"indexedFeatures\", maxCategories=15).fit(vectorized_sdf)\n",
        "\n",
        "# Split the data into training and test sets (70% for training and 30% for testing)\n",
        "(trainingData, testData) = vectorized_sdf.randomSplit([0.7, 0.3])\n",
        "\n",
        "# Train a DecisionTree model.\n",
        "decision_tree = DecisionTreeClassifier(labelCol=\"indexedLabel\", featuresCol=\"indexedFeatures\")\n",
        "\n",
        "# Chain indexers and tree in a Pipeline\n",
        "pipeline = Pipeline(stages=[label_indexer, feature_indexer, decision_tree])\n",
        "\n",
        "# Train model. This also runs the indexers.\n",
        "model = pipeline.fit(trainingData)\n",
        "\n",
        "# Make predictions on test data\n",
        "predictions = model.transform(testData)\n",
        "\n",
        "# Select example rows to display\n",
        "predictions.select(\"prediction\", \"indexedLabel\", \"features\").show(5)\n",
        "\n",
        "# Select (prediction, true label) and compute test accuracy\n",
        "evaluator = MulticlassClassificationEvaluator(\n",
        "    labelCol=\"indexedLabel\", predictionCol=\"prediction\", metricName=\"accuracy\")\n",
        "accuracy = evaluator.evaluate(predictions)\n",
        "print(\"Test accuracy = %g\" % accuracy)\n",
        "\n",
        "# Print the decision tree model\n",
        "treeModel = model.stages[2]\n",
        "print(treeModel)\n"
      ],
      "metadata": {
        "trusted": true,
        "colab": {
          "base_uri": "https://localhost:8080/",
          "height": 698
        },
        "id": "hv-WVpta1C0s",
        "outputId": "e0073a0a-d41c-458d-d155-b21d0381580c"
      },
      "execution_count": 86,
      "outputs": [
        {
          "output_type": "display_data",
          "data": {
            "text/plain": [
              "<Figure size 640x480 with 1 Axes>"
            ],
            "image/png": "[encoded data removed]"
          },
          "metadata": {}
        },
        {
          "output_type": "stream",
          "name": "stdout",
          "text": [
            "+----------+------------+--------------------+\n",
            "|prediction|indexedLabel|            features|\n",
            "+----------+------------+--------------------+\n",
            "|       2.0|         5.0|(27,[0,2,5,11,15,...|\n",
            "|       2.0|         0.0|(27,[0,2,5,11,15,...|\n",
            "|       2.0|         4.0|(27,[0,2,4,5,9,11...|\n",
            "|       3.0|         3.0|(27,[0,2,4,5,9,11...|\n",
            "|       3.0|         4.0|(27,[0,2,4,5,9,11...|\n",
            "+----------+------------+--------------------+\n",
            "only showing top 5 rows\n",
            "\n",
            "Test accuracy = 0.643969\n",
            "DecisionTreeClassificationModel: uid=DecisionTreeClassifier_a4733d5c4bbb, depth=5, numNodes=55, numClasses=13, numFeatures=27\n"
          ]
        }
      ]
    },
    {
      "cell_type": "code",
      "source": [
        "tree = model.stages[-1]\n",
        "\n",
        "display(tree) #visualize the decision tree model\n",
        "print(tree.toDebugString) #print the nodes of the decision tree model\n"
      ],
      "metadata": {
        "trusted": true,
        "colab": {
          "base_uri": "https://localhost:8080/",
          "height": 1000
        },
        "id": "UpcHoZZe1C0s",
        "outputId": "ed0c585e-ef73-43a4-ee27-8faf5499f2f4"
      },
      "execution_count": 87,
      "outputs": [
        {
          "output_type": "display_data",
          "data": {
            "text/plain": [
              "DecisionTreeClassificationModel: uid=DecisionTreeClassifier_a4733d5c4bbb, depth=5, numNodes=55, numClasses=13, numFeatures=27"
            ]
          },
          "metadata": {}
        },
        {
          "output_type": "stream",
          "name": "stdout",
          "text": [
            "DecisionTreeClassificationModel: uid=DecisionTreeClassifier_a4733d5c4bbb, depth=5, numNodes=55, numClasses=13, numFeatures=27\n",
            "  If (feature 1 in {1.0,3.0})\n",
            "   If (feature 2 <= 119.0)\n",
            "    If (feature 6 in {1.0,2.0})\n",
            "     If (feature 22 <= 0.00650000015)\n",
            "      If (feature 2 <= 108.0)\n",
            "       Predict: 0.0\n",
            "      Else (feature 2 > 108.0)\n",
            "       Predict: 4.0\n",
            "     Else (feature 22 > 0.00650000015)\n",
            "      If (feature 9 <= 40027.403999999995)\n",
            "       Predict: 0.0\n",
            "      Else (feature 9 > 40027.403999999995)\n",
            "       Predict: 4.0\n",
            "    Else (feature 6 not in {1.0,2.0})\n",
            "     If (feature 15 <= 57.5)\n",
            "      If (feature 5 in {1.0})\n",
            "       Predict: 4.0\n",
            "      Else (feature 5 not in {1.0})\n",
            "       Predict: 1.0\n",
            "     Else (feature 15 > 57.5)\n",
            "      If (feature 2 <= 117.0)\n",
            "       Predict: 3.0\n",
            "      Else (feature 2 > 117.0)\n",
            "       Predict: 1.0\n",
            "   Else (feature 2 > 119.0)\n",
            "    If (feature 5 in {3.0})\n",
            "     If (feature 4 <= 1.7653975499999999)\n",
            "      If (feature 9 <= 5.7833332E7)\n",
            "       Predict: 4.0\n",
            "      Else (feature 9 > 5.7833332E7)\n",
            "       Predict: 1.0\n",
            "     Else (feature 4 > 1.7653975499999999)\n",
            "      If (feature 0 in {1.0})\n",
            "       Predict: 0.0\n",
            "      Else (feature 0 not in {1.0})\n",
            "       Predict: 2.0\n",
            "    Else (feature 5 not in {3.0})\n",
            "     If (feature 7 <= 1.5)\n",
            "      Predict: 0.0\n",
            "     Else (feature 7 > 1.5)\n",
            "      Predict: 4.0\n",
            "  Else (feature 1 not in {1.0,3.0})\n",
            "   If (feature 5 in {1.0})\n",
            "    If (feature 7 <= 5.5)\n",
            "     If (feature 2 <= 1063.0)\n",
            "      Predict: 0.0\n",
            "     Else (feature 2 > 1063.0)\n",
            "      If (feature 7 <= 2.5)\n",
            "       Predict: 1.0\n",
            "      Else (feature 7 > 2.5)\n",
            "       Predict: 0.0\n",
            "    Else (feature 7 > 5.5)\n",
            "     If (feature 16 <= 43.5)\n",
            "      If (feature 1 in {0.0,2.0})\n",
            "       Predict: 4.0\n",
            "      Else (feature 1 not in {0.0,2.0})\n",
            "       Predict: 0.0\n",
            "     Else (feature 16 > 43.5)\n",
            "      Predict: 0.0\n",
            "   Else (feature 5 not in {1.0})\n",
            "    If (feature 2 <= 565.0)\n",
            "     If (feature 2 <= 563.0)\n",
            "      If (feature 15 <= 56.5)\n",
            "       Predict: 2.0\n",
            "      Else (feature 15 > 56.5)\n",
            "       Predict: 3.0\n",
            "     Else (feature 2 > 563.0)\n",
            "      If (feature 19 <= 5030.07175)\n",
            "       Predict: 9.0\n",
            "      Else (feature 19 > 5030.07175)\n",
            "       Predict: 3.0\n",
            "    Else (feature 2 > 565.0)\n",
            "     If (feature 1 in {2.0,4.0,6.0,9.0,10.0,11.0,12.0})\n",
            "      If (feature 16 <= 59.5)\n",
            "       Predict: 0.0\n",
            "      Else (feature 16 > 59.5)\n",
            "       Predict: 1.0\n",
            "     Else (feature 1 not in {2.0,4.0,6.0,9.0,10.0,11.0,12.0})\n",
            "      If (feature 3 <= 1651.0)\n",
            "       Predict: 2.0\n",
            "      Else (feature 3 > 1651.0)\n",
            "       Predict: 0.0\n",
            "\n"
          ]
        }
      ]
    },
    {
      "cell_type": "code",
      "source": [
        "#Plot Between Actual and Predicted attck_cat\n",
        "%matplotlib inline\n",
        "import numpy as np\n",
        "\n",
        "sbdf = predictions.select('prediction','indexedLabel').toPandas()\n",
        "\n",
        "# PLOT \n",
        "ax = sbdf.plot(kind='scatter', figsize = (6,6), x='prediction', y='indexedLabel', color='blue', alpha = 1, label='Actual vs. predicted')\n",
        "fit = np.polyfit(sbdf['prediction'], sbdf['indexedLabel'], deg=1)\n",
        "ax.set_title('Actual vs. Predicted Attck Record')\n",
        "ax.set_xlabel(\"Actual\")\n",
        "ax.set_ylabel(\"Predicted\")\n",
        "ax.plot(sbdf['prediction'], fit[0] * sbdf['prediction'] + fit[1], color='magenta')\n",
        "plt.axis([-1, 20, -1, 20])\n",
        "plt.show(ax)"
      ],
      "metadata": {
        "trusted": true,
        "colab": {
          "base_uri": "https://localhost:8080/",
          "height": 564
        },
        "id": "9TS8H_xl1C0s",
        "outputId": "eb934b40-e6db-4a50-fe5a-57d12ea1f3c4"
      },
      "execution_count": 88,
      "outputs": [
        {
          "output_type": "display_data",
          "data": {
            "text/plain": [
              "<Figure size 600x600 with 1 Axes>"
            ],
            "image/png": "[encoded data removed]"
          },
          "metadata": {}
        }
      ]
    },
    {
      "cell_type": "code",
      "source": [
        "\n",
        "\n",
        "\n",
        "\n",
        "\n",
        "###### ********* ---------  END  --------- ********* ########\n",
        "\n",
        "\n",
        "\n",
        "\n"
      ],
      "metadata": {
        "trusted": true,
        "id": "csDTYm_h1C0t"
      },
      "execution_count": null,
      "outputs": []
    }
  ]
}